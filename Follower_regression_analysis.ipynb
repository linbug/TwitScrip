{
 "cells": [
  {
   "cell_type": "markdown",
   "metadata": {},
   "source": [
    "**Question: is it possible to predict the number of followers [followers_count] that a person will have on Twitter, based on their other attributes? **\n",
    "\n",
    "A user's attributes include:\n",
    "- When the account was created [created_at]: probably super important. The longer someone has been a user for, likely the more followers they have\n",
    "- Whether or not they have a profile image [default_profile_image]. I'd expect users with a profile image to have more followers\n",
    "- Description: Could length of description make a difference?\n",
    "- favourites_count: More active users could favourite more, and also have more followers?\n",
    "- following: Could potentially be a positive correlation between followers and following, although not necessarily; some very popular accounts are following very few people\n",
    "- lang: I'd expect users using english/spanish to have more followers\n",
    "- statuses_count: people with more statuses are more active users, and probably have more followers\n",
    "- verified: More likely to be a real human\n",
    "- withheld_in_countries: users with witheld profile possibly have fewer followers?"
   ]
  },
  {
   "cell_type": "markdown",
   "metadata": {},
   "source": [
    "How many data points do I need for my model? Some sources state at least 20 observations per vairable as a general rule of thunb. How many user profiles can I pull from Twitter in a reasonable amount of time?\n"
   ]
  },
  {
   "cell_type": "markdown",
   "metadata": {},
   "source": [
    "Should I get my users from a particular source, or can I just pull them randomly from Twitter?"
   ]
  },
  {
   "cell_type": "code",
   "execution_count": 372,
   "metadata": {
    "collapsed": false
   },
   "outputs": [],
   "source": [
    "import twitterscrape\n",
    "import tweepy\n",
    "import time\n",
    "import pandas as pd\n",
    "import seaborn as sns\n",
    "import matplotlib.pyplot as plt\n",
    "import powerlaw\n",
    "import math\n",
    "import numpy as np\n",
    "from __future__ import division\n",
    "from sklearn.cross_validation import train_test_split\n",
    "%matplotlib inline"
   ]
  },
  {
   "cell_type": "code",
   "execution_count": 165,
   "metadata": {
    "collapsed": false
   },
   "outputs": [],
   "source": [
    "api = twitterscrape.authenticate()"
   ]
  },
  {
   "cell_type": "code",
   "execution_count": 166,
   "metadata": {
    "collapsed": true
   },
   "outputs": [],
   "source": [
    "#This gets all of the ids for the followers of the RC\n",
    "ids = []\n",
    "for page in tweepy.Cursor(api.followers_ids, screen_name=\"recursecenter\").pages():\n",
    "    ids.extend(page)\n",
    "    time.sleep(60)"
   ]
  },
  {
   "cell_type": "code",
   "execution_count": 167,
   "metadata": {
    "collapsed": false
   },
   "outputs": [
    {
     "data": {
      "text/plain": [
       "17548"
      ]
     },
     "execution_count": 167,
     "metadata": {},
     "output_type": "execute_result"
    }
   ],
   "source": [
    "len(ids)\n"
   ]
  },
  {
   "cell_type": "markdown",
   "metadata": {},
   "source": [
    "Twitter places [limits](https://dev.twitter.com/rest/public/rate-limits) on how many times you can ping them per 15 minutes. [GET Users/Lookup](https://dev.twitter.com/rest/reference/get/users/lookup) returns up to 100 users per request. I am allowed to send 180 Lookup requests per 15 minutes = 18000 users per 15 minutes. So I should be able to do them all no problem in one 15 minute block, no token bucket required."
   ]
  },
  {
   "cell_type": "code",
   "execution_count": 168,
   "metadata": {
    "collapsed": false
   },
   "outputs": [
    {
     "data": {
      "text/plain": [
       "100408795"
      ]
     },
     "execution_count": 168,
     "metadata": {},
     "output_type": "execute_result"
    }
   ],
   "source": [
    "ids[0]"
   ]
  },
  {
   "cell_type": "code",
   "execution_count": 169,
   "metadata": {
    "collapsed": true
   },
   "outputs": [],
   "source": [
    "def get_users(ids):\n",
    "    last_index = 0\n",
    "    results = []\n",
    "    for i in range(100,len(ids),100):\n",
    "        result = api.lookup_users(ids[last_index:i])\n",
    "        \n",
    "        last_index = i\n",
    "        results.append(result)\n",
    "    return results"
   ]
  },
  {
   "cell_type": "code",
   "execution_count": 170,
   "metadata": {
    "collapsed": false
   },
   "outputs": [],
   "source": [
    "RC_followers = get_users(ids)"
   ]
  },
  {
   "cell_type": "code",
   "execution_count": 171,
   "metadata": {
    "collapsed": false
   },
   "outputs": [
    {
     "data": {
      "text/plain": [
       "175"
      ]
     },
     "execution_count": 171,
     "metadata": {},
     "output_type": "execute_result"
    }
   ],
   "source": [
    "len(RC_followers)"
   ]
  },
  {
   "cell_type": "code",
   "execution_count": 180,
   "metadata": {
    "collapsed": true
   },
   "outputs": [],
   "source": [
    "RC_followers_concat =  [inner \n",
    "                        for outer in RC_followers \n",
    "                        for inner in outer]"
   ]
  },
  {
   "cell_type": "code",
   "execution_count": 209,
   "metadata": {
    "collapsed": false
   },
   "outputs": [
    {
     "data": {
      "text/plain": [
       "u'Dave Bryand'"
      ]
     },
     "execution_count": 209,
     "metadata": {},
     "output_type": "execute_result"
    }
   ],
   "source": [
    "#this is a way of getting attributes from \n",
    "getattr(RC_followers_concat[0],'name')"
   ]
  },
  {
   "cell_type": "code",
   "execution_count": 211,
   "metadata": {
    "collapsed": true
   },
   "outputs": [],
   "source": [
    "columns_list = [\"name\", \"created_at\",\"default_profile_image\", \"description\", \"favourites_count\", \"followers_count\", \"friends_count\", \"lang\", \"listed_count\", \"protected\", \"statuses_count\", \"time_zone\", \"verified\", \"withheld_in_countries\"]"
   ]
  },
  {
   "cell_type": "code",
   "execution_count": 214,
   "metadata": {
    "collapsed": false
   },
   "outputs": [],
   "source": [
    "#create a dictionary using columns where every key contains a list\n",
    "user_dict = {column:[getattr(user,column) if hasattr(user,column) else None for user in RC_followers_concat] for column in columns_list}\n",
    "RC_followers_df = pd.DataFrame(user_dict)"
   ]
  },
  {
   "cell_type": "code",
   "execution_count": 223,
   "metadata": {
    "collapsed": false
   },
   "outputs": [
    {
     "data": {
      "text/html": [
       "<div>\n",
       "<table border=\"1\" class=\"dataframe\">\n",
       "  <thead>\n",
       "    <tr style=\"text-align: right;\">\n",
       "      <th></th>\n",
       "      <th>created_at</th>\n",
       "      <th>default_profile_image</th>\n",
       "      <th>description</th>\n",
       "      <th>favourites_count</th>\n",
       "      <th>followers_count</th>\n",
       "      <th>friends_count</th>\n",
       "      <th>lang</th>\n",
       "      <th>listed_count</th>\n",
       "      <th>name</th>\n",
       "      <th>protected</th>\n",
       "      <th>statuses_count</th>\n",
       "      <th>time_zone</th>\n",
       "      <th>verified</th>\n",
       "      <th>withheld_in_countries</th>\n",
       "    </tr>\n",
       "  </thead>\n",
       "  <tbody>\n",
       "    <tr>\n",
       "      <th>0</th>\n",
       "      <td>2009-12-30 04:56:18</td>\n",
       "      <td>False</td>\n",
       "      <td>WorkLife Co-founder. On fire about building th...</td>\n",
       "      <td>261</td>\n",
       "      <td>291</td>\n",
       "      <td>704</td>\n",
       "      <td>en</td>\n",
       "      <td>14</td>\n",
       "      <td>Dave Bryand</td>\n",
       "      <td>False</td>\n",
       "      <td>532</td>\n",
       "      <td>Pacific Time (US &amp; Canada)</td>\n",
       "      <td>False</td>\n",
       "      <td>None</td>\n",
       "    </tr>\n",
       "    <tr>\n",
       "      <th>1</th>\n",
       "      <td>2011-01-23 23:30:47</td>\n",
       "      <td>False</td>\n",
       "      <td>unpopular dolt</td>\n",
       "      <td>9</td>\n",
       "      <td>24</td>\n",
       "      <td>131</td>\n",
       "      <td>en</td>\n",
       "      <td>1</td>\n",
       "      <td>Nimrod Dancer</td>\n",
       "      <td>False</td>\n",
       "      <td>758</td>\n",
       "      <td>Eastern Time (US &amp; Canada)</td>\n",
       "      <td>False</td>\n",
       "      <td>None</td>\n",
       "    </tr>\n",
       "    <tr>\n",
       "      <th>2</th>\n",
       "      <td>2015-06-30 15:05:36</td>\n",
       "      <td>False</td>\n",
       "      <td>an ardent machine learner. #machinelearning #n...</td>\n",
       "      <td>51</td>\n",
       "      <td>116</td>\n",
       "      <td>223</td>\n",
       "      <td>en</td>\n",
       "      <td>10</td>\n",
       "      <td>Mallikarjun Yelameli</td>\n",
       "      <td>False</td>\n",
       "      <td>60</td>\n",
       "      <td>None</td>\n",
       "      <td>False</td>\n",
       "      <td>None</td>\n",
       "    </tr>\n",
       "    <tr>\n",
       "      <th>3</th>\n",
       "      <td>2011-12-13 00:22:03</td>\n",
       "      <td>False</td>\n",
       "      <td>farm-to-table data science</td>\n",
       "      <td>213</td>\n",
       "      <td>25</td>\n",
       "      <td>407</td>\n",
       "      <td>en</td>\n",
       "      <td>2</td>\n",
       "      <td>jawn</td>\n",
       "      <td>False</td>\n",
       "      <td>89</td>\n",
       "      <td>Pacific Time (US &amp; Canada)</td>\n",
       "      <td>False</td>\n",
       "      <td>None</td>\n",
       "    </tr>\n",
       "    <tr>\n",
       "      <th>4</th>\n",
       "      <td>2011-12-11 05:01:42</td>\n",
       "      <td>False</td>\n",
       "      <td></td>\n",
       "      <td>120</td>\n",
       "      <td>51</td>\n",
       "      <td>202</td>\n",
       "      <td>en</td>\n",
       "      <td>3</td>\n",
       "      <td>Stewart Stewart</td>\n",
       "      <td>False</td>\n",
       "      <td>35</td>\n",
       "      <td>Arizona</td>\n",
       "      <td>False</td>\n",
       "      <td>None</td>\n",
       "    </tr>\n",
       "  </tbody>\n",
       "</table>\n",
       "</div>"
      ],
      "text/plain": [
       "           created_at default_profile_image  \\\n",
       "0 2009-12-30 04:56:18                 False   \n",
       "1 2011-01-23 23:30:47                 False   \n",
       "2 2015-06-30 15:05:36                 False   \n",
       "3 2011-12-13 00:22:03                 False   \n",
       "4 2011-12-11 05:01:42                 False   \n",
       "\n",
       "                                         description  favourites_count  \\\n",
       "0  WorkLife Co-founder. On fire about building th...               261   \n",
       "1                                     unpopular dolt                 9   \n",
       "2  an ardent machine learner. #machinelearning #n...                51   \n",
       "3                         farm-to-table data science               213   \n",
       "4                                                                  120   \n",
       "\n",
       "   followers_count  friends_count lang  listed_count                  name  \\\n",
       "0              291            704   en            14           Dave Bryand   \n",
       "1               24            131   en             1         Nimrod Dancer   \n",
       "2              116            223   en            10  Mallikarjun Yelameli   \n",
       "3               25            407   en             2                  jawn   \n",
       "4               51            202   en             3       Stewart Stewart   \n",
       "\n",
       "  protected  statuses_count                   time_zone verified  \\\n",
       "0     False             532  Pacific Time (US & Canada)    False   \n",
       "1     False             758  Eastern Time (US & Canada)    False   \n",
       "2     False              60                        None    False   \n",
       "3     False              89  Pacific Time (US & Canada)    False   \n",
       "4     False              35                     Arizona    False   \n",
       "\n",
       "  withheld_in_countries  \n",
       "0                  None  \n",
       "1                  None  \n",
       "2                  None  \n",
       "3                  None  \n",
       "4                  None  "
      ]
     },
     "execution_count": 223,
     "metadata": {},
     "output_type": "execute_result"
    }
   ],
   "source": [
    "RC_followers_df.head()"
   ]
  },
  {
   "cell_type": "markdown",
   "metadata": {},
   "source": [
    "I first plotted a histogram to see the distribution of the number of followers for each user"
   ]
  },
  {
   "cell_type": "code",
   "execution_count": 323,
   "metadata": {
    "collapsed": false
   },
   "outputs": [
    {
     "data": {
      "text/plain": [
       "<matplotlib.axes._subplots.AxesSubplot at 0x18c19e710>"
      ]
     },
     "execution_count": 323,
     "metadata": {},
     "output_type": "execute_result"
    },
    {
     "data": {
      "image/png": "[encoded data removed]",
      "text/plain": [
       "<matplotlib.figure.Figure at 0x18c062b90>"
      ]
     },
     "metadata": {},
     "output_type": "display_data"
    }
   ],
   "source": [
    "sns.distplot(RC_followers_df.followers_count, kde = False)"
   ]
  },
  {
   "cell_type": "markdown",
   "metadata": {},
   "source": [
    "I suspect that this is showing a heavy-tailed distribution; there are lots and lots of people with few followers, and a small number of people with may followers; hence, the strange looking plot"
   ]
  },
  {
   "cell_type": "code",
   "execution_count": 232,
   "metadata": {
    "collapsed": false
   },
   "outputs": [
    {
     "data": {
      "text/html": [
       "<div>\n",
       "<table border=\"1\" class=\"dataframe\">\n",
       "  <thead>\n",
       "    <tr style=\"text-align: right;\">\n",
       "      <th></th>\n",
       "      <th>created_at</th>\n",
       "      <th>default_profile_image</th>\n",
       "      <th>description</th>\n",
       "      <th>favourites_count</th>\n",
       "      <th>followers_count</th>\n",
       "      <th>friends_count</th>\n",
       "      <th>lang</th>\n",
       "      <th>listed_count</th>\n",
       "      <th>name</th>\n",
       "      <th>protected</th>\n",
       "      <th>statuses_count</th>\n",
       "      <th>time_zone</th>\n",
       "      <th>verified</th>\n",
       "      <th>withheld_in_countries</th>\n",
       "    </tr>\n",
       "  </thead>\n",
       "  <tbody>\n",
       "    <tr>\n",
       "      <th>12994</th>\n",
       "      <td>2008-07-31 06:04:28</td>\n",
       "      <td>False</td>\n",
       "      <td>Trying to Find People Online? Try #PeopleSearc...</td>\n",
       "      <td>6536</td>\n",
       "      <td>1437440</td>\n",
       "      <td>55896</td>\n",
       "      <td>en</td>\n",
       "      <td>473</td>\n",
       "      <td>PeopleSearches.com</td>\n",
       "      <td>False</td>\n",
       "      <td>45529</td>\n",
       "      <td>Pacific Time (US &amp; Canada)</td>\n",
       "      <td>False</td>\n",
       "      <td>None</td>\n",
       "    </tr>\n",
       "  </tbody>\n",
       "</table>\n",
       "</div>"
      ],
      "text/plain": [
       "               created_at default_profile_image  \\\n",
       "12994 2008-07-31 06:04:28                 False   \n",
       "\n",
       "                                             description  favourites_count  \\\n",
       "12994  Trying to Find People Online? Try #PeopleSearc...              6536   \n",
       "\n",
       "       followers_count  friends_count lang  listed_count                name  \\\n",
       "12994          1437440          55896   en           473  PeopleSearches.com   \n",
       "\n",
       "      protected  statuses_count                   time_zone verified  \\\n",
       "12994     False           45529  Pacific Time (US & Canada)    False   \n",
       "\n",
       "      withheld_in_countries  \n",
       "12994                  None  "
      ]
     },
     "execution_count": 232,
     "metadata": {},
     "output_type": "execute_result"
    }
   ],
   "source": [
    "RC_followers_df[RC_followers_df.followers_count == RC_followers_df.followers_count.max()]"
   ]
  },
  {
   "cell_type": "markdown",
   "metadata": {},
   "source": [
    "The user with the most followers has 1.4 million followers! A website that specialises in finding people online"
   ]
  },
  {
   "cell_type": "code",
   "execution_count": 246,
   "metadata": {
    "collapsed": false
   },
   "outputs": [
    {
     "data": {
      "text/html": [
       "<div>\n",
       "<table border=\"1\" class=\"dataframe\">\n",
       "  <thead>\n",
       "    <tr style=\"text-align: right;\">\n",
       "      <th></th>\n",
       "      <th>created_at</th>\n",
       "      <th>default_profile_image</th>\n",
       "      <th>description</th>\n",
       "      <th>favourites_count</th>\n",
       "      <th>followers_count</th>\n",
       "      <th>friends_count</th>\n",
       "      <th>lang</th>\n",
       "      <th>listed_count</th>\n",
       "      <th>name</th>\n",
       "      <th>protected</th>\n",
       "      <th>statuses_count</th>\n",
       "      <th>time_zone</th>\n",
       "      <th>verified</th>\n",
       "      <th>withheld_in_countries</th>\n",
       "    </tr>\n",
       "  </thead>\n",
       "  <tbody>\n",
       "    <tr>\n",
       "      <th>68</th>\n",
       "      <td>2011-07-05 20:27:54</td>\n",
       "      <td>False</td>\n",
       "      <td>Converting caffeine into code and cake into ca...</td>\n",
       "      <td>558</td>\n",
       "      <td>11405</td>\n",
       "      <td>262</td>\n",
       "      <td>en</td>\n",
       "      <td>15</td>\n",
       "      <td>James Shakespeare</td>\n",
       "      <td>False</td>\n",
       "      <td>2092</td>\n",
       "      <td>London</td>\n",
       "      <td>False</td>\n",
       "      <td>None</td>\n",
       "    </tr>\n",
       "    <tr>\n",
       "      <th>71</th>\n",
       "      <td>2008-01-22 05:42:15</td>\n",
       "      <td>False</td>\n",
       "      <td>i write php + js at @bocoup, build https://t.c...</td>\n",
       "      <td>57822</td>\n",
       "      <td>14176</td>\n",
       "      <td>1666</td>\n",
       "      <td>en</td>\n",
       "      <td>744</td>\n",
       "      <td>jennmoneydollars</td>\n",
       "      <td>False</td>\n",
       "      <td>56639</td>\n",
       "      <td>Eastern Time (US &amp; Canada)</td>\n",
       "      <td>False</td>\n",
       "      <td>None</td>\n",
       "    </tr>\n",
       "    <tr>\n",
       "      <th>128</th>\n",
       "      <td>2014-07-18 16:58:39</td>\n",
       "      <td>False</td>\n",
       "      <td>Citizenship through Social Innovation</td>\n",
       "      <td>266</td>\n",
       "      <td>36330</td>\n",
       "      <td>32757</td>\n",
       "      <td>en</td>\n",
       "      <td>124</td>\n",
       "      <td>The Worldplayers</td>\n",
       "      <td>False</td>\n",
       "      <td>1657</td>\n",
       "      <td>Pacific Time (US &amp; Canada)</td>\n",
       "      <td>False</td>\n",
       "      <td>None</td>\n",
       "    </tr>\n",
       "    <tr>\n",
       "      <th>183</th>\n",
       "      <td>2008-12-10 13:34:22</td>\n",
       "      <td>False</td>\n",
       "      <td>Code // Crypto  // Security.\\n\\nWorking on pri...</td>\n",
       "      <td>7862</td>\n",
       "      <td>11138</td>\n",
       "      <td>848</td>\n",
       "      <td>en</td>\n",
       "      <td>548</td>\n",
       "      <td>Frederic Jacobs</td>\n",
       "      <td>False</td>\n",
       "      <td>5813</td>\n",
       "      <td>Brussels</td>\n",
       "      <td>False</td>\n",
       "      <td>None</td>\n",
       "    </tr>\n",
       "    <tr>\n",
       "      <th>202</th>\n",
       "      <td>2008-01-29 14:58:18</td>\n",
       "      <td>False</td>\n",
       "      <td>A payments company that provides elegant tools...</td>\n",
       "      <td>3639</td>\n",
       "      <td>21310</td>\n",
       "      <td>22699</td>\n",
       "      <td>en</td>\n",
       "      <td>569</td>\n",
       "      <td>Braintree</td>\n",
       "      <td>False</td>\n",
       "      <td>4944</td>\n",
       "      <td>Pacific Time (US &amp; Canada)</td>\n",
       "      <td>True</td>\n",
       "      <td>None</td>\n",
       "    </tr>\n",
       "    <tr>\n",
       "      <th>275</th>\n",
       "      <td>2009-10-14 13:55:58</td>\n",
       "      <td>False</td>\n",
       "      <td>The official account of MIT's largest research...</td>\n",
       "      <td>988</td>\n",
       "      <td>14033</td>\n",
       "      <td>3906</td>\n",
       "      <td>en</td>\n",
       "      <td>636</td>\n",
       "      <td>CSAIL at MIT</td>\n",
       "      <td>False</td>\n",
       "      <td>1882</td>\n",
       "      <td>Eastern Time (US &amp; Canada)</td>\n",
       "      <td>False</td>\n",
       "      <td>None</td>\n",
       "    </tr>\n",
       "    <tr>\n",
       "      <th>280</th>\n",
       "      <td>2011-08-11 22:54:41</td>\n",
       "      <td>False</td>\n",
       "      <td>My contents reveal all. Email nytfridge at gma...</td>\n",
       "      <td>158197</td>\n",
       "      <td>12502</td>\n",
       "      <td>10665</td>\n",
       "      <td>en</td>\n",
       "      <td>350</td>\n",
       "      <td>NYTFridge</td>\n",
       "      <td>False</td>\n",
       "      <td>40196</td>\n",
       "      <td>Atlantic Time (Canada)</td>\n",
       "      <td>False</td>\n",
       "      <td>None</td>\n",
       "    </tr>\n",
       "    <tr>\n",
       "      <th>405</th>\n",
       "      <td>2009-04-27 17:14:44</td>\n",
       "      <td>False</td>\n",
       "      <td>Strategist focused on securing IT operations a...</td>\n",
       "      <td>2364</td>\n",
       "      <td>32648</td>\n",
       "      <td>29487</td>\n",
       "      <td>en</td>\n",
       "      <td>845</td>\n",
       "      <td>J Wolfgang Goerlich</td>\n",
       "      <td>False</td>\n",
       "      <td>10551</td>\n",
       "      <td>Eastern Time (US &amp; Canada)</td>\n",
       "      <td>False</td>\n",
       "      <td>None</td>\n",
       "    </tr>\n",
       "    <tr>\n",
       "      <th>466</th>\n",
       "      <td>2011-02-12 06:06:05</td>\n",
       "      <td>False</td>\n",
       "      <td>I’m an engineer, graduate of Brown University,...</td>\n",
       "      <td>81</td>\n",
       "      <td>38499</td>\n",
       "      <td>258</td>\n",
       "      <td>en</td>\n",
       "      <td>5</td>\n",
       "      <td>Susan Goldblatt</td>\n",
       "      <td>False</td>\n",
       "      <td>206</td>\n",
       "      <td>Eastern Time (US &amp; Canada)</td>\n",
       "      <td>False</td>\n",
       "      <td>None</td>\n",
       "    </tr>\n",
       "    <tr>\n",
       "      <th>626</th>\n",
       "      <td>2009-02-18 01:51:08</td>\n",
       "      <td>False</td>\n",
       "      <td>ALL MED SEARCH. I place healthcare professiona...</td>\n",
       "      <td>223</td>\n",
       "      <td>25643</td>\n",
       "      <td>7311</td>\n",
       "      <td>en</td>\n",
       "      <td>96</td>\n",
       "      <td>Nadia Gruzd</td>\n",
       "      <td>False</td>\n",
       "      <td>1606</td>\n",
       "      <td>Pacific Time (US &amp; Canada)</td>\n",
       "      <td>False</td>\n",
       "      <td>None</td>\n",
       "    </tr>\n",
       "    <tr>\n",
       "      <th>668</th>\n",
       "      <td>2014-10-16 18:19:58</td>\n",
       "      <td>False</td>\n",
       "      <td>Where software developers discover job opportu...</td>\n",
       "      <td>320</td>\n",
       "      <td>12354</td>\n",
       "      <td>12814</td>\n",
       "      <td>en</td>\n",
       "      <td>60</td>\n",
       "      <td>HIRED Seattle</td>\n",
       "      <td>False</td>\n",
       "      <td>792</td>\n",
       "      <td>Tijuana</td>\n",
       "      <td>False</td>\n",
       "      <td>None</td>\n",
       "    </tr>\n",
       "    <tr>\n",
       "      <th>842</th>\n",
       "      <td>2010-10-19 21:29:13</td>\n",
       "      <td>False</td>\n",
       "      <td>@PowerTalk_w_og I break artist &amp; Brands 1017 B...</td>\n",
       "      <td>38278</td>\n",
       "      <td>41401</td>\n",
       "      <td>32965</td>\n",
       "      <td>en</td>\n",
       "      <td>755</td>\n",
       "      <td>OG Mack Drama</td>\n",
       "      <td>False</td>\n",
       "      <td>321529</td>\n",
       "      <td>Pacific Time (US &amp; Canada)</td>\n",
       "      <td>False</td>\n",
       "      <td>None</td>\n",
       "    </tr>\n",
       "    <tr>\n",
       "      <th>865</th>\n",
       "      <td>2008-03-31 23:10:59</td>\n",
       "      <td>False</td>\n",
       "      <td>A mentat. Hacker, photog, dj, researcher, thir...</td>\n",
       "      <td>5183</td>\n",
       "      <td>29728</td>\n",
       "      <td>5785</td>\n",
       "      <td>en</td>\n",
       "      <td>143</td>\n",
       "      <td>Jeffrey Paul</td>\n",
       "      <td>False</td>\n",
       "      <td>33230</td>\n",
       "      <td>Bern</td>\n",
       "      <td>False</td>\n",
       "      <td>None</td>\n",
       "    </tr>\n",
       "    <tr>\n",
       "      <th>958</th>\n",
       "      <td>2008-05-14 16:59:46</td>\n",
       "      <td>False</td>\n",
       "      <td>Official updates for Juniper Networks’ news, e...</td>\n",
       "      <td>1254</td>\n",
       "      <td>61380</td>\n",
       "      <td>3338</td>\n",
       "      <td>en</td>\n",
       "      <td>1496</td>\n",
       "      <td>Juniper Networks</td>\n",
       "      <td>False</td>\n",
       "      <td>12323</td>\n",
       "      <td>Pacific Time (US &amp; Canada)</td>\n",
       "      <td>True</td>\n",
       "      <td>None</td>\n",
       "    </tr>\n",
       "    <tr>\n",
       "      <th>1054</th>\n",
       "      <td>2008-12-11 17:13:07</td>\n",
       "      <td>False</td>\n",
       "      <td>working on better comments for all @coralproje...</td>\n",
       "      <td>16565</td>\n",
       "      <td>18198</td>\n",
       "      <td>3216</td>\n",
       "      <td>en</td>\n",
       "      <td>458</td>\n",
       "      <td>Imperator Amazonia</td>\n",
       "      <td>False</td>\n",
       "      <td>136655</td>\n",
       "      <td>Eastern Time (US &amp; Canada)</td>\n",
       "      <td>False</td>\n",
       "      <td>None</td>\n",
       "    </tr>\n",
       "    <tr>\n",
       "      <th>1087</th>\n",
       "      <td>2009-08-17 13:12:46</td>\n",
       "      <td>False</td>\n",
       "      <td>Get the Book! Come Hell or High Water (Life Le...</td>\n",
       "      <td>2797</td>\n",
       "      <td>34397</td>\n",
       "      <td>37784</td>\n",
       "      <td>en</td>\n",
       "      <td>460</td>\n",
       "      <td>Marvin LeBlanc</td>\n",
       "      <td>False</td>\n",
       "      <td>31430</td>\n",
       "      <td>Central Time (US &amp; Canada)</td>\n",
       "      <td>False</td>\n",
       "      <td>None</td>\n",
       "    </tr>\n",
       "    <tr>\n",
       "      <th>1100</th>\n",
       "      <td>2011-02-13 00:38:25</td>\n",
       "      <td>False</td>\n",
       "      <td>#FreeAnons #AnonSec #AntiSec #Anonymous #Dapps...</td>\n",
       "      <td>2674</td>\n",
       "      <td>25961</td>\n",
       "      <td>18084</td>\n",
       "      <td>en</td>\n",
       "      <td>570</td>\n",
       "      <td>AnonSec</td>\n",
       "      <td>False</td>\n",
       "      <td>20841</td>\n",
       "      <td>Hawaii</td>\n",
       "      <td>False</td>\n",
       "      <td>None</td>\n",
       "    </tr>\n",
       "    <tr>\n",
       "      <th>1102</th>\n",
       "      <td>2009-05-07 06:41:30</td>\n",
       "      <td>False</td>\n",
       "      <td></td>\n",
       "      <td>16432</td>\n",
       "      <td>14695</td>\n",
       "      <td>4498</td>\n",
       "      <td>en</td>\n",
       "      <td>769</td>\n",
       "      <td>Steve Randy Waldman</td>\n",
       "      <td>False</td>\n",
       "      <td>26746</td>\n",
       "      <td>Pacific Time (US &amp; Canada)</td>\n",
       "      <td>False</td>\n",
       "      <td>None</td>\n",
       "    </tr>\n",
       "    <tr>\n",
       "      <th>1168</th>\n",
       "      <td>2009-02-26 01:28:52</td>\n",
       "      <td>False</td>\n",
       "      <td>CEO of @UWCF #UnitedWay #LiveUnited, #SocialMe...</td>\n",
       "      <td>2003</td>\n",
       "      <td>70146</td>\n",
       "      <td>32003</td>\n",
       "      <td>en</td>\n",
       "      <td>130</td>\n",
       "      <td>Alan H Turner II</td>\n",
       "      <td>False</td>\n",
       "      <td>3957</td>\n",
       "      <td>Central Time (US &amp; Canada)</td>\n",
       "      <td>False</td>\n",
       "      <td>None</td>\n",
       "    </tr>\n",
       "    <tr>\n",
       "      <th>1195</th>\n",
       "      <td>2011-08-12 15:02:20</td>\n",
       "      <td>False</td>\n",
       "      <td>Multiracial Jamaican-born Philadelphia based A...</td>\n",
       "      <td>40</td>\n",
       "      <td>27095</td>\n",
       "      <td>6919</td>\n",
       "      <td>en</td>\n",
       "      <td>113</td>\n",
       "      <td>Cuan-Chai Megghross</td>\n",
       "      <td>False</td>\n",
       "      <td>34</td>\n",
       "      <td>Eastern Time (US &amp; Canada)</td>\n",
       "      <td>False</td>\n",
       "      <td>None</td>\n",
       "    </tr>\n",
       "    <tr>\n",
       "      <th>1290</th>\n",
       "      <td>2008-07-13 13:51:22</td>\n",
       "      <td>False</td>\n",
       "      <td>(Technology · Design · Business)⌃People https:...</td>\n",
       "      <td>5137</td>\n",
       "      <td>423099</td>\n",
       "      <td>15718</td>\n",
       "      <td>en</td>\n",
       "      <td>9054</td>\n",
       "      <td>John Maeda</td>\n",
       "      <td>False</td>\n",
       "      <td>9518</td>\n",
       "      <td>Eastern Time (US &amp; Canada)</td>\n",
       "      <td>True</td>\n",
       "      <td>None</td>\n",
       "    </tr>\n",
       "    <tr>\n",
       "      <th>1383</th>\n",
       "      <td>2009-04-08 05:51:20</td>\n",
       "      <td>False</td>\n",
       "      <td>knowledge curator | digital sociologist | #mil...</td>\n",
       "      <td>1032</td>\n",
       "      <td>15502</td>\n",
       "      <td>12528</td>\n",
       "      <td>en</td>\n",
       "      <td>215</td>\n",
       "      <td>Dr. Julie Albright</td>\n",
       "      <td>False</td>\n",
       "      <td>2573</td>\n",
       "      <td>Pacific Time (US &amp; Canada)</td>\n",
       "      <td>False</td>\n",
       "      <td>None</td>\n",
       "    </tr>\n",
       "    <tr>\n",
       "      <th>1584</th>\n",
       "      <td>2006-07-13 23:37:00</td>\n",
       "      <td>False</td>\n",
       "      <td>Just graduated with a PhD from @MIT_CSAIL. I w...</td>\n",
       "      <td>2170</td>\n",
       "      <td>24637</td>\n",
       "      <td>1032</td>\n",
       "      <td>en</td>\n",
       "      <td>496</td>\n",
       "      <td>Neha Narula</td>\n",
       "      <td>False</td>\n",
       "      <td>4611</td>\n",
       "      <td>Eastern Time (US &amp; Canada)</td>\n",
       "      <td>False</td>\n",
       "      <td>None</td>\n",
       "    </tr>\n",
       "    <tr>\n",
       "      <th>1748</th>\n",
       "      <td>2013-03-19 11:16:19</td>\n",
       "      <td>False</td>\n",
       "      <td>LEARNING MADE FUN! Colours, shapes, numbers an...</td>\n",
       "      <td>2909</td>\n",
       "      <td>45365</td>\n",
       "      <td>28082</td>\n",
       "      <td>en</td>\n",
       "      <td>23</td>\n",
       "      <td>vemolo games 4 kids</td>\n",
       "      <td>False</td>\n",
       "      <td>1406</td>\n",
       "      <td>Casablanca</td>\n",
       "      <td>False</td>\n",
       "      <td>None</td>\n",
       "    </tr>\n",
       "    <tr>\n",
       "      <th>1842</th>\n",
       "      <td>2014-01-17 11:10:36</td>\n",
       "      <td>False</td>\n",
       "      <td>(Coffee Lover) - Social Media is Fun , My love...</td>\n",
       "      <td>2069</td>\n",
       "      <td>232908</td>\n",
       "      <td>31377</td>\n",
       "      <td>id</td>\n",
       "      <td>25</td>\n",
       "      <td>Darojat Agung SA</td>\n",
       "      <td>False</td>\n",
       "      <td>13239</td>\n",
       "      <td>Asia/Jakarta</td>\n",
       "      <td>False</td>\n",
       "      <td>None</td>\n",
       "    </tr>\n",
       "    <tr>\n",
       "      <th>1886</th>\n",
       "      <td>2013-03-28 09:03:51</td>\n",
       "      <td>False</td>\n",
       "      <td>Harnessing T.H.O.R &amp; O.D.I.N #network technolo...</td>\n",
       "      <td>1308</td>\n",
       "      <td>60596</td>\n",
       "      <td>14021</td>\n",
       "      <td>en</td>\n",
       "      <td>13</td>\n",
       "      <td>MUNITIO Sdn. Bhd.</td>\n",
       "      <td>False</td>\n",
       "      <td>3463</td>\n",
       "      <td>None</td>\n",
       "      <td>False</td>\n",
       "      <td>None</td>\n",
       "    </tr>\n",
       "    <tr>\n",
       "      <th>2066</th>\n",
       "      <td>2009-03-27 17:05:30</td>\n",
       "      <td>False</td>\n",
       "      <td>Optimist in disguise. Dog person. Startups, Te...</td>\n",
       "      <td>4232</td>\n",
       "      <td>13849</td>\n",
       "      <td>11174</td>\n",
       "      <td>en</td>\n",
       "      <td>814</td>\n",
       "      <td>Lora Kolodny</td>\n",
       "      <td>False</td>\n",
       "      <td>22341</td>\n",
       "      <td>Quito</td>\n",
       "      <td>True</td>\n",
       "      <td>None</td>\n",
       "    </tr>\n",
       "    <tr>\n",
       "      <th>2414</th>\n",
       "      <td>2008-09-04 18:19:09</td>\n",
       "      <td>False</td>\n",
       "      <td>Esri helps you create a better world with the ...</td>\n",
       "      <td>3267</td>\n",
       "      <td>73807</td>\n",
       "      <td>61850</td>\n",
       "      <td>en</td>\n",
       "      <td>2293</td>\n",
       "      <td>Esri</td>\n",
       "      <td>False</td>\n",
       "      <td>10278</td>\n",
       "      <td>Pacific Time (US &amp; Canada)</td>\n",
       "      <td>False</td>\n",
       "      <td>None</td>\n",
       "    </tr>\n",
       "    <tr>\n",
       "      <th>2573</th>\n",
       "      <td>2012-04-10 13:30:07</td>\n",
       "      <td>False</td>\n",
       "      <td>HISTORY Classroom provides information about H...</td>\n",
       "      <td>148</td>\n",
       "      <td>14049</td>\n",
       "      <td>5088</td>\n",
       "      <td>en</td>\n",
       "      <td>229</td>\n",
       "      <td>History Classroom</td>\n",
       "      <td>False</td>\n",
       "      <td>5614</td>\n",
       "      <td>None</td>\n",
       "      <td>True</td>\n",
       "      <td>None</td>\n",
       "    </tr>\n",
       "    <tr>\n",
       "      <th>2881</th>\n",
       "      <td>2008-07-18 21:12:53</td>\n",
       "      <td>False</td>\n",
       "      <td>Cryptoparty founder. Amnesty 'Humanitarian Med...</td>\n",
       "      <td>20492</td>\n",
       "      <td>40140</td>\n",
       "      <td>22350</td>\n",
       "      <td>en</td>\n",
       "      <td>2098</td>\n",
       "      <td>Asher Wolf</td>\n",
       "      <td>False</td>\n",
       "      <td>355040</td>\n",
       "      <td>Melbourne</td>\n",
       "      <td>False</td>\n",
       "      <td>None</td>\n",
       "    </tr>\n",
       "    <tr>\n",
       "      <th>...</th>\n",
       "      <td>...</td>\n",
       "      <td>...</td>\n",
       "      <td>...</td>\n",
       "      <td>...</td>\n",
       "      <td>...</td>\n",
       "      <td>...</td>\n",
       "      <td>...</td>\n",
       "      <td>...</td>\n",
       "      <td>...</td>\n",
       "      <td>...</td>\n",
       "      <td>...</td>\n",
       "      <td>...</td>\n",
       "      <td>...</td>\n",
       "      <td>...</td>\n",
       "    </tr>\n",
       "    <tr>\n",
       "      <th>16236</th>\n",
       "      <td>2011-11-24 19:21:36</td>\n",
       "      <td>False</td>\n",
       "      <td>Covering Canadian startups and tech innovation.</td>\n",
       "      <td>447</td>\n",
       "      <td>13583</td>\n",
       "      <td>4647</td>\n",
       "      <td>en</td>\n",
       "      <td>674</td>\n",
       "      <td>BetaKit</td>\n",
       "      <td>False</td>\n",
       "      <td>9029</td>\n",
       "      <td>Eastern Time (US &amp; Canada)</td>\n",
       "      <td>False</td>\n",
       "      <td>None</td>\n",
       "    </tr>\n",
       "    <tr>\n",
       "      <th>16441</th>\n",
       "      <td>2007-06-11 14:35:18</td>\n",
       "      <td>False</td>\n",
       "      <td>Someone once said about me: 'Never go in again...</td>\n",
       "      <td>2698</td>\n",
       "      <td>15559</td>\n",
       "      <td>12583</td>\n",
       "      <td>en</td>\n",
       "      <td>1030</td>\n",
       "      <td>Leigh Honeywell</td>\n",
       "      <td>False</td>\n",
       "      <td>55840</td>\n",
       "      <td>Pacific Time (US &amp; Canada)</td>\n",
       "      <td>False</td>\n",
       "      <td>None</td>\n",
       "    </tr>\n",
       "    <tr>\n",
       "      <th>16460</th>\n",
       "      <td>2008-12-10 19:04:07</td>\n",
       "      <td>False</td>\n",
       "      <td>Stop, Think, Pwn!</td>\n",
       "      <td>34</td>\n",
       "      <td>19630</td>\n",
       "      <td>4383</td>\n",
       "      <td>en</td>\n",
       "      <td>663</td>\n",
       "      <td>dragosr</td>\n",
       "      <td>False</td>\n",
       "      <td>10457</td>\n",
       "      <td>Pacific Time (US &amp; Canada)</td>\n",
       "      <td>False</td>\n",
       "      <td>None</td>\n",
       "    </tr>\n",
       "    <tr>\n",
       "      <th>16483</th>\n",
       "      <td>2007-06-12 18:57:03</td>\n",
       "      <td>False</td>\n",
       "      <td>Senior Consultant at the Tribeca Film Institut...</td>\n",
       "      <td>1708</td>\n",
       "      <td>14960</td>\n",
       "      <td>11754</td>\n",
       "      <td>en</td>\n",
       "      <td>856</td>\n",
       "      <td>Ingrid Kopp</td>\n",
       "      <td>False</td>\n",
       "      <td>29704</td>\n",
       "      <td>Eastern Time (US &amp; Canada)</td>\n",
       "      <td>False</td>\n",
       "      <td>None</td>\n",
       "    </tr>\n",
       "    <tr>\n",
       "      <th>16500</th>\n",
       "      <td>2008-04-16 17:10:37</td>\n",
       "      <td>False</td>\n",
       "      <td>Women 2.0 is a media company w/ content, commu...</td>\n",
       "      <td>9052</td>\n",
       "      <td>82656</td>\n",
       "      <td>7186</td>\n",
       "      <td>en</td>\n",
       "      <td>3203</td>\n",
       "      <td>Women 2.0</td>\n",
       "      <td>False</td>\n",
       "      <td>26731</td>\n",
       "      <td>Pacific Time (US &amp; Canada)</td>\n",
       "      <td>False</td>\n",
       "      <td>None</td>\n",
       "    </tr>\n",
       "    <tr>\n",
       "      <th>16527</th>\n",
       "      <td>2009-01-26 00:20:16</td>\n",
       "      <td>False</td>\n",
       "      <td>Affluent + Luxury | Luxury is not in a price t...</td>\n",
       "      <td>103</td>\n",
       "      <td>23126</td>\n",
       "      <td>15414</td>\n",
       "      <td>en</td>\n",
       "      <td>558</td>\n",
       "      <td>Affluxury</td>\n",
       "      <td>False</td>\n",
       "      <td>39043</td>\n",
       "      <td>Central Time (US &amp; Canada)</td>\n",
       "      <td>False</td>\n",
       "      <td>None</td>\n",
       "    </tr>\n",
       "    <tr>\n",
       "      <th>16551</th>\n",
       "      <td>2008-09-25 17:51:18</td>\n",
       "      <td>False</td>\n",
       "      <td>Coupon Code: TWITTER25 for 25% off // I am a s...</td>\n",
       "      <td>177</td>\n",
       "      <td>137918</td>\n",
       "      <td>128572</td>\n",
       "      <td>en</td>\n",
       "      <td>703</td>\n",
       "      <td>AdnagaMagandA</td>\n",
       "      <td>False</td>\n",
       "      <td>193925</td>\n",
       "      <td>Pacific Time (US &amp; Canada)</td>\n",
       "      <td>False</td>\n",
       "      <td>None</td>\n",
       "    </tr>\n",
       "    <tr>\n",
       "      <th>16578</th>\n",
       "      <td>2008-07-15 07:45:36</td>\n",
       "      <td>False</td>\n",
       "      <td>Biz dev, Web dev, Finance, Cleantech. Mobile f...</td>\n",
       "      <td>1336</td>\n",
       "      <td>37389</td>\n",
       "      <td>2973</td>\n",
       "      <td>en</td>\n",
       "      <td>169</td>\n",
       "      <td>Iman Mafi ✭</td>\n",
       "      <td>False</td>\n",
       "      <td>2818</td>\n",
       "      <td>Pacific Time (US &amp; Canada)</td>\n",
       "      <td>False</td>\n",
       "      <td>None</td>\n",
       "    </tr>\n",
       "    <tr>\n",
       "      <th>16617</th>\n",
       "      <td>2009-05-21 20:54:13</td>\n",
       "      <td>False</td>\n",
       "      <td>director @hallefreyssinet. ex @microsoft &amp; @te...</td>\n",
       "      <td>227</td>\n",
       "      <td>29027</td>\n",
       "      <td>5305</td>\n",
       "      <td>fr</td>\n",
       "      <td>1437</td>\n",
       "      <td>Roxanne Varza</td>\n",
       "      <td>False</td>\n",
       "      <td>18265</td>\n",
       "      <td>Brussels</td>\n",
       "      <td>False</td>\n",
       "      <td>None</td>\n",
       "    </tr>\n",
       "    <tr>\n",
       "      <th>16628</th>\n",
       "      <td>2009-07-01 19:19:08</td>\n",
       "      <td>False</td>\n",
       "      <td>Seed-stage VC fund that has invested in compan...</td>\n",
       "      <td>2364</td>\n",
       "      <td>10340</td>\n",
       "      <td>1080</td>\n",
       "      <td>en</td>\n",
       "      <td>589</td>\n",
       "      <td>Founder Collective</td>\n",
       "      <td>False</td>\n",
       "      <td>3744</td>\n",
       "      <td>Central Time (US &amp; Canada)</td>\n",
       "      <td>False</td>\n",
       "      <td>None</td>\n",
       "    </tr>\n",
       "    <tr>\n",
       "      <th>16659</th>\n",
       "      <td>2011-05-06 07:15:41</td>\n",
       "      <td>False</td>\n",
       "      <td>Inspiring girls and women to explore engineeri...</td>\n",
       "      <td>2166</td>\n",
       "      <td>13770</td>\n",
       "      <td>3754</td>\n",
       "      <td>en</td>\n",
       "      <td>385</td>\n",
       "      <td>DIY Girls</td>\n",
       "      <td>False</td>\n",
       "      <td>6840</td>\n",
       "      <td>Pacific Time (US &amp; Canada)</td>\n",
       "      <td>False</td>\n",
       "      <td>None</td>\n",
       "    </tr>\n",
       "    <tr>\n",
       "      <th>16691</th>\n",
       "      <td>2009-05-21 17:11:03</td>\n",
       "      <td>False</td>\n",
       "      <td>NYCEDC fuels the City's economy by strengtheni...</td>\n",
       "      <td>2233</td>\n",
       "      <td>23466</td>\n",
       "      <td>2978</td>\n",
       "      <td>en</td>\n",
       "      <td>902</td>\n",
       "      <td>NYCEDC</td>\n",
       "      <td>False</td>\n",
       "      <td>10344</td>\n",
       "      <td>Eastern Time (US &amp; Canada)</td>\n",
       "      <td>True</td>\n",
       "      <td>None</td>\n",
       "    </tr>\n",
       "    <tr>\n",
       "      <th>16772</th>\n",
       "      <td>2011-05-02 17:15:33</td>\n",
       "      <td>False</td>\n",
       "      <td>Our mission is to empower young women of color...</td>\n",
       "      <td>25104</td>\n",
       "      <td>40548</td>\n",
       "      <td>1746</td>\n",
       "      <td>en</td>\n",
       "      <td>1626</td>\n",
       "      <td>BlackGirlsCode.Com</td>\n",
       "      <td>False</td>\n",
       "      <td>33205</td>\n",
       "      <td>None</td>\n",
       "      <td>False</td>\n",
       "      <td>None</td>\n",
       "    </tr>\n",
       "    <tr>\n",
       "      <th>16838</th>\n",
       "      <td>2011-01-12 18:29:51</td>\n",
       "      <td>False</td>\n",
       "      <td>Automatic updates for all things topcoder | Fo...</td>\n",
       "      <td>503</td>\n",
       "      <td>11796</td>\n",
       "      <td>4534</td>\n",
       "      <td>en</td>\n",
       "      <td>235</td>\n",
       "      <td>topcoder Updates</td>\n",
       "      <td>False</td>\n",
       "      <td>11640</td>\n",
       "      <td>Eastern Time (US &amp; Canada)</td>\n",
       "      <td>True</td>\n",
       "      <td>None</td>\n",
       "    </tr>\n",
       "    <tr>\n",
       "      <th>16859</th>\n",
       "      <td>2007-03-22 00:51:21</td>\n",
       "      <td>False</td>\n",
       "      <td>musician, Cognitect, Lisp, JavaScript, Kitchen...</td>\n",
       "      <td>21460</td>\n",
       "      <td>15139</td>\n",
       "      <td>463</td>\n",
       "      <td>en</td>\n",
       "      <td>859</td>\n",
       "      <td>David Nolen</td>\n",
       "      <td>False</td>\n",
       "      <td>18976</td>\n",
       "      <td>Tehran</td>\n",
       "      <td>False</td>\n",
       "      <td>None</td>\n",
       "    </tr>\n",
       "    <tr>\n",
       "      <th>17035</th>\n",
       "      <td>2007-11-03 13:11:54</td>\n",
       "      <td>False</td>\n",
       "      <td>Canadian Startups</td>\n",
       "      <td>36</td>\n",
       "      <td>14903</td>\n",
       "      <td>987</td>\n",
       "      <td>en</td>\n",
       "      <td>586</td>\n",
       "      <td>StartupNorth</td>\n",
       "      <td>False</td>\n",
       "      <td>6058</td>\n",
       "      <td>Eastern Time (US &amp; Canada)</td>\n",
       "      <td>False</td>\n",
       "      <td>None</td>\n",
       "    </tr>\n",
       "    <tr>\n",
       "      <th>17036</th>\n",
       "      <td>2006-07-18 18:14:53</td>\n",
       "      <td>False</td>\n",
       "      <td>Simple caveman. Comfy with uncertainty. Produc...</td>\n",
       "      <td>2451</td>\n",
       "      <td>13776</td>\n",
       "      <td>3065</td>\n",
       "      <td>en</td>\n",
       "      <td>896</td>\n",
       "      <td>David Crow</td>\n",
       "      <td>False</td>\n",
       "      <td>30950</td>\n",
       "      <td>Eastern Time (US &amp; Canada)</td>\n",
       "      <td>False</td>\n",
       "      <td>None</td>\n",
       "    </tr>\n",
       "    <tr>\n",
       "      <th>17037</th>\n",
       "      <td>2009-02-25 01:26:49</td>\n",
       "      <td>False</td>\n",
       "      <td>i named my first baby @shopwoodlot. obsessed w...</td>\n",
       "      <td>1615</td>\n",
       "      <td>14215</td>\n",
       "      <td>3850</td>\n",
       "      <td>en</td>\n",
       "      <td>370</td>\n",
       "      <td>Sonia</td>\n",
       "      <td>False</td>\n",
       "      <td>17750</td>\n",
       "      <td>Pacific Time (US &amp; Canada)</td>\n",
       "      <td>False</td>\n",
       "      <td>None</td>\n",
       "    </tr>\n",
       "    <tr>\n",
       "      <th>17092</th>\n",
       "      <td>2011-06-24 00:11:08</td>\n",
       "      <td>False</td>\n",
       "      <td>Digital literacy for women and youth. Goal: Te...</td>\n",
       "      <td>2708</td>\n",
       "      <td>31398</td>\n",
       "      <td>1400</td>\n",
       "      <td>en</td>\n",
       "      <td>1106</td>\n",
       "      <td>Ladies Learning Code</td>\n",
       "      <td>False</td>\n",
       "      <td>9344</td>\n",
       "      <td>Eastern Time (US &amp; Canada)</td>\n",
       "      <td>True</td>\n",
       "      <td>None</td>\n",
       "    </tr>\n",
       "    <tr>\n",
       "      <th>17143</th>\n",
       "      <td>2009-03-14 20:07:50</td>\n",
       "      <td>False</td>\n",
       "      <td>Senior writer @BuzzfeedNews covering technolog...</td>\n",
       "      <td>19580</td>\n",
       "      <td>47685</td>\n",
       "      <td>5046</td>\n",
       "      <td>en</td>\n",
       "      <td>889</td>\n",
       "      <td>Nitasha Tiku</td>\n",
       "      <td>False</td>\n",
       "      <td>12643</td>\n",
       "      <td>Eastern Time (US &amp; Canada)</td>\n",
       "      <td>False</td>\n",
       "      <td>None</td>\n",
       "    </tr>\n",
       "    <tr>\n",
       "      <th>17155</th>\n",
       "      <td>2009-04-05 15:45:34</td>\n",
       "      <td>False</td>\n",
       "      <td>Always: @Racialicious. Current: Editor at Larg...</td>\n",
       "      <td>1343</td>\n",
       "      <td>12140</td>\n",
       "      <td>3987</td>\n",
       "      <td>en</td>\n",
       "      <td>643</td>\n",
       "      <td>Latoya Peterson</td>\n",
       "      <td>False</td>\n",
       "      <td>21573</td>\n",
       "      <td>Quito</td>\n",
       "      <td>True</td>\n",
       "      <td>None</td>\n",
       "    </tr>\n",
       "    <tr>\n",
       "      <th>17164</th>\n",
       "      <td>2009-03-08 09:51:01</td>\n",
       "      <td>False</td>\n",
       "      <td>Turning bright ideas into successful companies...</td>\n",
       "      <td>18508</td>\n",
       "      <td>11814</td>\n",
       "      <td>4203</td>\n",
       "      <td>en</td>\n",
       "      <td>333</td>\n",
       "      <td>Oxford Entrepreneurs</td>\n",
       "      <td>False</td>\n",
       "      <td>1118</td>\n",
       "      <td>London</td>\n",
       "      <td>False</td>\n",
       "      <td>None</td>\n",
       "    </tr>\n",
       "    <tr>\n",
       "      <th>17175</th>\n",
       "      <td>2009-04-07 13:14:58</td>\n",
       "      <td>False</td>\n",
       "      <td>http://t.co/QEftPwMZ2c shares civic and human ...</td>\n",
       "      <td>1004</td>\n",
       "      <td>31624</td>\n",
       "      <td>11367</td>\n",
       "      <td>en</td>\n",
       "      <td>145</td>\n",
       "      <td>#BringItaiHome</td>\n",
       "      <td>False</td>\n",
       "      <td>13174</td>\n",
       "      <td>Harare</td>\n",
       "      <td>False</td>\n",
       "      <td>None</td>\n",
       "    </tr>\n",
       "    <tr>\n",
       "      <th>17310</th>\n",
       "      <td>2009-03-26 19:38:38</td>\n",
       "      <td>False</td>\n",
       "      <td>National Center for Women &amp; Information Techno...</td>\n",
       "      <td>659</td>\n",
       "      <td>17511</td>\n",
       "      <td>3304</td>\n",
       "      <td>en</td>\n",
       "      <td>849</td>\n",
       "      <td>NCWIT</td>\n",
       "      <td>False</td>\n",
       "      <td>6802</td>\n",
       "      <td>Mountain Time (US &amp; Canada)</td>\n",
       "      <td>False</td>\n",
       "      <td>None</td>\n",
       "    </tr>\n",
       "    <tr>\n",
       "      <th>17344</th>\n",
       "      <td>2008-04-29 02:44:28</td>\n",
       "      <td>False</td>\n",
       "      <td>Founder/CEO @GetSoundGuard @LuptonMedia @iCapG...</td>\n",
       "      <td>35649</td>\n",
       "      <td>943573</td>\n",
       "      <td>1018354</td>\n",
       "      <td>en</td>\n",
       "      <td>2960</td>\n",
       "      <td>Jonah Lupton</td>\n",
       "      <td>False</td>\n",
       "      <td>60253</td>\n",
       "      <td>Eastern Time (US &amp; Canada)</td>\n",
       "      <td>False</td>\n",
       "      <td>None</td>\n",
       "    </tr>\n",
       "    <tr>\n",
       "      <th>17355</th>\n",
       "      <td>2007-04-17 01:46:27</td>\n",
       "      <td>False</td>\n",
       "      <td>Fallibilist, optimist. Stripe CEO.</td>\n",
       "      <td>9450</td>\n",
       "      <td>32351</td>\n",
       "      <td>1317</td>\n",
       "      <td>en</td>\n",
       "      <td>968</td>\n",
       "      <td>Patrick Collison</td>\n",
       "      <td>False</td>\n",
       "      <td>9916</td>\n",
       "      <td>Dublin</td>\n",
       "      <td>True</td>\n",
       "      <td>None</td>\n",
       "    </tr>\n",
       "    <tr>\n",
       "      <th>17368</th>\n",
       "      <td>2008-05-01 13:46:45</td>\n",
       "      <td>False</td>\n",
       "      <td>We make killer photography websites. One power...</td>\n",
       "      <td>1832</td>\n",
       "      <td>63967</td>\n",
       "      <td>6531</td>\n",
       "      <td>en</td>\n",
       "      <td>2437</td>\n",
       "      <td>PhotoShelter</td>\n",
       "      <td>False</td>\n",
       "      <td>12059</td>\n",
       "      <td>Eastern Time (US &amp; Canada)</td>\n",
       "      <td>False</td>\n",
       "      <td>None</td>\n",
       "    </tr>\n",
       "    <tr>\n",
       "      <th>17399</th>\n",
       "      <td>2009-03-16 18:02:43</td>\n",
       "      <td>False</td>\n",
       "      <td>Hacking Mobile Technology Education;   Changin...</td>\n",
       "      <td>151</td>\n",
       "      <td>27390</td>\n",
       "      <td>27582</td>\n",
       "      <td>en</td>\n",
       "      <td>672</td>\n",
       "      <td>Teddy Angelus</td>\n",
       "      <td>False</td>\n",
       "      <td>5192</td>\n",
       "      <td>Eastern Time (US &amp; Canada)</td>\n",
       "      <td>False</td>\n",
       "      <td>None</td>\n",
       "    </tr>\n",
       "    <tr>\n",
       "      <th>17434</th>\n",
       "      <td>2008-03-12 13:16:05</td>\n",
       "      <td>False</td>\n",
       "      <td>A dude on the Interwebs. CMO @GetShine. Managi...</td>\n",
       "      <td>755</td>\n",
       "      <td>11913</td>\n",
       "      <td>760</td>\n",
       "      <td>en</td>\n",
       "      <td>337</td>\n",
       "      <td>Roi Carthy</td>\n",
       "      <td>False</td>\n",
       "      <td>11056</td>\n",
       "      <td>Jerusalem</td>\n",
       "      <td>False</td>\n",
       "      <td>None</td>\n",
       "    </tr>\n",
       "    <tr>\n",
       "      <th>17463</th>\n",
       "      <td>2009-05-12 14:15:08</td>\n",
       "      <td>False</td>\n",
       "      <td>Managing Partner at Founder Collective. Entrep...</td>\n",
       "      <td>792</td>\n",
       "      <td>18221</td>\n",
       "      <td>939</td>\n",
       "      <td>en</td>\n",
       "      <td>794</td>\n",
       "      <td>Eric Paley</td>\n",
       "      <td>False</td>\n",
       "      <td>2736</td>\n",
       "      <td>Central Time (US &amp; Canada)</td>\n",
       "      <td>False</td>\n",
       "      <td>None</td>\n",
       "    </tr>\n",
       "  </tbody>\n",
       "</table>\n",
       "<p>171 rows × 14 columns</p>\n",
       "</div>"
      ],
      "text/plain": [
       "               created_at default_profile_image  \\\n",
       "68    2011-07-05 20:27:54                 False   \n",
       "71    2008-01-22 05:42:15                 False   \n",
       "128   2014-07-18 16:58:39                 False   \n",
       "183   2008-12-10 13:34:22                 False   \n",
       "202   2008-01-29 14:58:18                 False   \n",
       "275   2009-10-14 13:55:58                 False   \n",
       "280   2011-08-11 22:54:41                 False   \n",
       "405   2009-04-27 17:14:44                 False   \n",
       "466   2011-02-12 06:06:05                 False   \n",
       "626   2009-02-18 01:51:08                 False   \n",
       "668   2014-10-16 18:19:58                 False   \n",
       "842   2010-10-19 21:29:13                 False   \n",
       "865   2008-03-31 23:10:59                 False   \n",
       "958   2008-05-14 16:59:46                 False   \n",
       "1054  2008-12-11 17:13:07                 False   \n",
       "1087  2009-08-17 13:12:46                 False   \n",
       "1100  2011-02-13 00:38:25                 False   \n",
       "1102  2009-05-07 06:41:30                 False   \n",
       "1168  2009-02-26 01:28:52                 False   \n",
       "1195  2011-08-12 15:02:20                 False   \n",
       "1290  2008-07-13 13:51:22                 False   \n",
       "1383  2009-04-08 05:51:20                 False   \n",
       "1584  2006-07-13 23:37:00                 False   \n",
       "1748  2013-03-19 11:16:19                 False   \n",
       "1842  2014-01-17 11:10:36                 False   \n",
       "1886  2013-03-28 09:03:51                 False   \n",
       "2066  2009-03-27 17:05:30                 False   \n",
       "2414  2008-09-04 18:19:09                 False   \n",
       "2573  2012-04-10 13:30:07                 False   \n",
       "2881  2008-07-18 21:12:53                 False   \n",
       "...                   ...                   ...   \n",
       "16236 2011-11-24 19:21:36                 False   \n",
       "16441 2007-06-11 14:35:18                 False   \n",
       "16460 2008-12-10 19:04:07                 False   \n",
       "16483 2007-06-12 18:57:03                 False   \n",
       "16500 2008-04-16 17:10:37                 False   \n",
       "16527 2009-01-26 00:20:16                 False   \n",
       "16551 2008-09-25 17:51:18                 False   \n",
       "16578 2008-07-15 07:45:36                 False   \n",
       "16617 2009-05-21 20:54:13                 False   \n",
       "16628 2009-07-01 19:19:08                 False   \n",
       "16659 2011-05-06 07:15:41                 False   \n",
       "16691 2009-05-21 17:11:03                 False   \n",
       "16772 2011-05-02 17:15:33                 False   \n",
       "16838 2011-01-12 18:29:51                 False   \n",
       "16859 2007-03-22 00:51:21                 False   \n",
       "17035 2007-11-03 13:11:54                 False   \n",
       "17036 2006-07-18 18:14:53                 False   \n",
       "17037 2009-02-25 01:26:49                 False   \n",
       "17092 2011-06-24 00:11:08                 False   \n",
       "17143 2009-03-14 20:07:50                 False   \n",
       "17155 2009-04-05 15:45:34                 False   \n",
       "17164 2009-03-08 09:51:01                 False   \n",
       "17175 2009-04-07 13:14:58                 False   \n",
       "17310 2009-03-26 19:38:38                 False   \n",
       "17344 2008-04-29 02:44:28                 False   \n",
       "17355 2007-04-17 01:46:27                 False   \n",
       "17368 2008-05-01 13:46:45                 False   \n",
       "17399 2009-03-16 18:02:43                 False   \n",
       "17434 2008-03-12 13:16:05                 False   \n",
       "17463 2009-05-12 14:15:08                 False   \n",
       "\n",
       "                                             description  favourites_count  \\\n",
       "68     Converting caffeine into code and cake into ca...               558   \n",
       "71     i write php + js at @bocoup, build https://t.c...             57822   \n",
       "128                Citizenship through Social Innovation               266   \n",
       "183    Code // Crypto  // Security.\\n\\nWorking on pri...              7862   \n",
       "202    A payments company that provides elegant tools...              3639   \n",
       "275    The official account of MIT's largest research...               988   \n",
       "280    My contents reveal all. Email nytfridge at gma...            158197   \n",
       "405    Strategist focused on securing IT operations a...              2364   \n",
       "466    I’m an engineer, graduate of Brown University,...                81   \n",
       "626    ALL MED SEARCH. I place healthcare professiona...               223   \n",
       "668    Where software developers discover job opportu...               320   \n",
       "842    @PowerTalk_w_og I break artist & Brands 1017 B...             38278   \n",
       "865    A mentat. Hacker, photog, dj, researcher, thir...              5183   \n",
       "958    Official updates for Juniper Networks’ news, e...              1254   \n",
       "1054   working on better comments for all @coralproje...             16565   \n",
       "1087   Get the Book! Come Hell or High Water (Life Le...              2797   \n",
       "1100   #FreeAnons #AnonSec #AntiSec #Anonymous #Dapps...              2674   \n",
       "1102                                                                 16432   \n",
       "1168   CEO of @UWCF #UnitedWay #LiveUnited, #SocialMe...              2003   \n",
       "1195   Multiracial Jamaican-born Philadelphia based A...                40   \n",
       "1290   (Technology · Design · Business)⌃People https:...              5137   \n",
       "1383   knowledge curator | digital sociologist | #mil...              1032   \n",
       "1584   Just graduated with a PhD from @MIT_CSAIL. I w...              2170   \n",
       "1748   LEARNING MADE FUN! Colours, shapes, numbers an...              2909   \n",
       "1842   (Coffee Lover) - Social Media is Fun , My love...              2069   \n",
       "1886   Harnessing T.H.O.R & O.D.I.N #network technolo...              1308   \n",
       "2066   Optimist in disguise. Dog person. Startups, Te...              4232   \n",
       "2414   Esri helps you create a better world with the ...              3267   \n",
       "2573   HISTORY Classroom provides information about H...               148   \n",
       "2881   Cryptoparty founder. Amnesty 'Humanitarian Med...             20492   \n",
       "...                                                  ...               ...   \n",
       "16236    Covering Canadian startups and tech innovation.               447   \n",
       "16441  Someone once said about me: 'Never go in again...              2698   \n",
       "16460                                  Stop, Think, Pwn!                34   \n",
       "16483  Senior Consultant at the Tribeca Film Institut...              1708   \n",
       "16500  Women 2.0 is a media company w/ content, commu...              9052   \n",
       "16527  Affluent + Luxury | Luxury is not in a price t...               103   \n",
       "16551  Coupon Code: TWITTER25 for 25% off // I am a s...               177   \n",
       "16578  Biz dev, Web dev, Finance, Cleantech. Mobile f...              1336   \n",
       "16617  director @hallefreyssinet. ex @microsoft & @te...               227   \n",
       "16628  Seed-stage VC fund that has invested in compan...              2364   \n",
       "16659  Inspiring girls and women to explore engineeri...              2166   \n",
       "16691  NYCEDC fuels the City's economy by strengtheni...              2233   \n",
       "16772  Our mission is to empower young women of color...             25104   \n",
       "16838  Automatic updates for all things topcoder | Fo...               503   \n",
       "16859  musician, Cognitect, Lisp, JavaScript, Kitchen...             21460   \n",
       "17035                                  Canadian Startups                36   \n",
       "17036  Simple caveman. Comfy with uncertainty. Produc...              2451   \n",
       "17037  i named my first baby @shopwoodlot. obsessed w...              1615   \n",
       "17092  Digital literacy for women and youth. Goal: Te...              2708   \n",
       "17143  Senior writer @BuzzfeedNews covering technolog...             19580   \n",
       "17155  Always: @Racialicious. Current: Editor at Larg...              1343   \n",
       "17164  Turning bright ideas into successful companies...             18508   \n",
       "17175  http://t.co/QEftPwMZ2c shares civic and human ...              1004   \n",
       "17310  National Center for Women & Information Techno...               659   \n",
       "17344  Founder/CEO @GetSoundGuard @LuptonMedia @iCapG...             35649   \n",
       "17355                 Fallibilist, optimist. Stripe CEO.              9450   \n",
       "17368  We make killer photography websites. One power...              1832   \n",
       "17399  Hacking Mobile Technology Education;   Changin...               151   \n",
       "17434  A dude on the Interwebs. CMO @GetShine. Managi...               755   \n",
       "17463  Managing Partner at Founder Collective. Entrep...               792   \n",
       "\n",
       "       followers_count  friends_count lang  listed_count  \\\n",
       "68               11405            262   en            15   \n",
       "71               14176           1666   en           744   \n",
       "128              36330          32757   en           124   \n",
       "183              11138            848   en           548   \n",
       "202              21310          22699   en           569   \n",
       "275              14033           3906   en           636   \n",
       "280              12502          10665   en           350   \n",
       "405              32648          29487   en           845   \n",
       "466              38499            258   en             5   \n",
       "626              25643           7311   en            96   \n",
       "668              12354          12814   en            60   \n",
       "842              41401          32965   en           755   \n",
       "865              29728           5785   en           143   \n",
       "958              61380           3338   en          1496   \n",
       "1054             18198           3216   en           458   \n",
       "1087             34397          37784   en           460   \n",
       "1100             25961          18084   en           570   \n",
       "1102             14695           4498   en           769   \n",
       "1168             70146          32003   en           130   \n",
       "1195             27095           6919   en           113   \n",
       "1290            423099          15718   en          9054   \n",
       "1383             15502          12528   en           215   \n",
       "1584             24637           1032   en           496   \n",
       "1748             45365          28082   en            23   \n",
       "1842            232908          31377   id            25   \n",
       "1886             60596          14021   en            13   \n",
       "2066             13849          11174   en           814   \n",
       "2414             73807          61850   en          2293   \n",
       "2573             14049           5088   en           229   \n",
       "2881             40140          22350   en          2098   \n",
       "...                ...            ...  ...           ...   \n",
       "16236            13583           4647   en           674   \n",
       "16441            15559          12583   en          1030   \n",
       "16460            19630           4383   en           663   \n",
       "16483            14960          11754   en           856   \n",
       "16500            82656           7186   en          3203   \n",
       "16527            23126          15414   en           558   \n",
       "16551           137918         128572   en           703   \n",
       "16578            37389           2973   en           169   \n",
       "16617            29027           5305   fr          1437   \n",
       "16628            10340           1080   en           589   \n",
       "16659            13770           3754   en           385   \n",
       "16691            23466           2978   en           902   \n",
       "16772            40548           1746   en          1626   \n",
       "16838            11796           4534   en           235   \n",
       "16859            15139            463   en           859   \n",
       "17035            14903            987   en           586   \n",
       "17036            13776           3065   en           896   \n",
       "17037            14215           3850   en           370   \n",
       "17092            31398           1400   en          1106   \n",
       "17143            47685           5046   en           889   \n",
       "17155            12140           3987   en           643   \n",
       "17164            11814           4203   en           333   \n",
       "17175            31624          11367   en           145   \n",
       "17310            17511           3304   en           849   \n",
       "17344           943573        1018354   en          2960   \n",
       "17355            32351           1317   en           968   \n",
       "17368            63967           6531   en          2437   \n",
       "17399            27390          27582   en           672   \n",
       "17434            11913            760   en           337   \n",
       "17463            18221            939   en           794   \n",
       "\n",
       "                       name protected  statuses_count  \\\n",
       "68        James Shakespeare     False            2092   \n",
       "71         jennmoneydollars     False           56639   \n",
       "128        The Worldplayers     False            1657   \n",
       "183         Frederic Jacobs     False            5813   \n",
       "202               Braintree     False            4944   \n",
       "275            CSAIL at MIT     False            1882   \n",
       "280               NYTFridge     False           40196   \n",
       "405     J Wolfgang Goerlich     False           10551   \n",
       "466         Susan Goldblatt     False             206   \n",
       "626             Nadia Gruzd     False            1606   \n",
       "668           HIRED Seattle     False             792   \n",
       "842           OG Mack Drama     False          321529   \n",
       "865            Jeffrey Paul     False           33230   \n",
       "958        Juniper Networks     False           12323   \n",
       "1054     Imperator Amazonia     False          136655   \n",
       "1087         Marvin LeBlanc     False           31430   \n",
       "1100                AnonSec     False           20841   \n",
       "1102    Steve Randy Waldman     False           26746   \n",
       "1168       Alan H Turner II     False            3957   \n",
       "1195    Cuan-Chai Megghross     False              34   \n",
       "1290             John Maeda     False            9518   \n",
       "1383     Dr. Julie Albright     False            2573   \n",
       "1584            Neha Narula     False            4611   \n",
       "1748    vemolo games 4 kids     False            1406   \n",
       "1842       Darojat Agung SA     False           13239   \n",
       "1886      MUNITIO Sdn. Bhd.     False            3463   \n",
       "2066           Lora Kolodny     False           22341   \n",
       "2414                   Esri     False           10278   \n",
       "2573      History Classroom     False            5614   \n",
       "2881             Asher Wolf     False          355040   \n",
       "...                     ...       ...             ...   \n",
       "16236               BetaKit     False            9029   \n",
       "16441       Leigh Honeywell     False           55840   \n",
       "16460               dragosr     False           10457   \n",
       "16483           Ingrid Kopp     False           29704   \n",
       "16500             Women 2.0     False           26731   \n",
       "16527             Affluxury     False           39043   \n",
       "16551         AdnagaMagandA     False          193925   \n",
       "16578           Iman Mafi ✭     False            2818   \n",
       "16617         Roxanne Varza     False           18265   \n",
       "16628    Founder Collective     False            3744   \n",
       "16659             DIY Girls     False            6840   \n",
       "16691                NYCEDC     False           10344   \n",
       "16772    BlackGirlsCode.Com     False           33205   \n",
       "16838      topcoder Updates     False           11640   \n",
       "16859           David Nolen     False           18976   \n",
       "17035          StartupNorth     False            6058   \n",
       "17036            David Crow     False           30950   \n",
       "17037                Sonia      False           17750   \n",
       "17092  Ladies Learning Code     False            9344   \n",
       "17143          Nitasha Tiku     False           12643   \n",
       "17155       Latoya Peterson     False           21573   \n",
       "17164  Oxford Entrepreneurs     False            1118   \n",
       "17175        #BringItaiHome     False           13174   \n",
       "17310                 NCWIT     False            6802   \n",
       "17344          Jonah Lupton     False           60253   \n",
       "17355      Patrick Collison     False            9916   \n",
       "17368          PhotoShelter     False           12059   \n",
       "17399         Teddy Angelus     False            5192   \n",
       "17434            Roi Carthy     False           11056   \n",
       "17463            Eric Paley     False            2736   \n",
       "\n",
       "                         time_zone verified withheld_in_countries  \n",
       "68                          London    False                  None  \n",
       "71      Eastern Time (US & Canada)    False                  None  \n",
       "128     Pacific Time (US & Canada)    False                  None  \n",
       "183                       Brussels    False                  None  \n",
       "202     Pacific Time (US & Canada)     True                  None  \n",
       "275     Eastern Time (US & Canada)    False                  None  \n",
       "280         Atlantic Time (Canada)    False                  None  \n",
       "405     Eastern Time (US & Canada)    False                  None  \n",
       "466     Eastern Time (US & Canada)    False                  None  \n",
       "626     Pacific Time (US & Canada)    False                  None  \n",
       "668                        Tijuana    False                  None  \n",
       "842     Pacific Time (US & Canada)    False                  None  \n",
       "865                           Bern    False                  None  \n",
       "958     Pacific Time (US & Canada)     True                  None  \n",
       "1054    Eastern Time (US & Canada)    False                  None  \n",
       "1087    Central Time (US & Canada)    False                  None  \n",
       "1100                        Hawaii    False                  None  \n",
       "1102    Pacific Time (US & Canada)    False                  None  \n",
       "1168    Central Time (US & Canada)    False                  None  \n",
       "1195    Eastern Time (US & Canada)    False                  None  \n",
       "1290    Eastern Time (US & Canada)     True                  None  \n",
       "1383    Pacific Time (US & Canada)    False                  None  \n",
       "1584    Eastern Time (US & Canada)    False                  None  \n",
       "1748                    Casablanca    False                  None  \n",
       "1842                  Asia/Jakarta    False                  None  \n",
       "1886                          None    False                  None  \n",
       "2066                         Quito     True                  None  \n",
       "2414    Pacific Time (US & Canada)    False                  None  \n",
       "2573                          None     True                  None  \n",
       "2881                     Melbourne    False                  None  \n",
       "...                            ...      ...                   ...  \n",
       "16236   Eastern Time (US & Canada)    False                  None  \n",
       "16441   Pacific Time (US & Canada)    False                  None  \n",
       "16460   Pacific Time (US & Canada)    False                  None  \n",
       "16483   Eastern Time (US & Canada)    False                  None  \n",
       "16500   Pacific Time (US & Canada)    False                  None  \n",
       "16527   Central Time (US & Canada)    False                  None  \n",
       "16551   Pacific Time (US & Canada)    False                  None  \n",
       "16578   Pacific Time (US & Canada)    False                  None  \n",
       "16617                     Brussels    False                  None  \n",
       "16628   Central Time (US & Canada)    False                  None  \n",
       "16659   Pacific Time (US & Canada)    False                  None  \n",
       "16691   Eastern Time (US & Canada)     True                  None  \n",
       "16772                         None    False                  None  \n",
       "16838   Eastern Time (US & Canada)     True                  None  \n",
       "16859                       Tehran    False                  None  \n",
       "17035   Eastern Time (US & Canada)    False                  None  \n",
       "17036   Eastern Time (US & Canada)    False                  None  \n",
       "17037   Pacific Time (US & Canada)    False                  None  \n",
       "17092   Eastern Time (US & Canada)     True                  None  \n",
       "17143   Eastern Time (US & Canada)    False                  None  \n",
       "17155                        Quito     True                  None  \n",
       "17164                       London    False                  None  \n",
       "17175                       Harare    False                  None  \n",
       "17310  Mountain Time (US & Canada)    False                  None  \n",
       "17344   Eastern Time (US & Canada)    False                  None  \n",
       "17355                       Dublin     True                  None  \n",
       "17368   Eastern Time (US & Canada)    False                  None  \n",
       "17399   Eastern Time (US & Canada)    False                  None  \n",
       "17434                    Jerusalem    False                  None  \n",
       "17463   Central Time (US & Canada)    False                  None  \n",
       "\n",
       "[171 rows x 14 columns]"
      ]
     },
     "execution_count": 246,
     "metadata": {},
     "output_type": "execute_result"
    }
   ],
   "source": [
    "RC_followers_df[RC_followers_df.followers_count>10000]"
   ]
  },
  {
   "cell_type": "code",
   "execution_count": 234,
   "metadata": {
    "collapsed": false
   },
   "outputs": [],
   "source": [
    "RC_followers_df_cleaned = RC_followers_df.drop(12994)"
   ]
  },
  {
   "cell_type": "code",
   "execution_count": 334,
   "metadata": {
    "collapsed": false
   },
   "outputs": [
    {
     "data": {
      "image/png": "[encoded data removed]",
      "text/plain": [
       "<matplotlib.figure.Figure at 0x18e74dd90>"
      ]
     },
     "metadata": {},
     "output_type": "display_data"
    }
   ],
   "source": [
    "RC_followers_df.hist()\n",
    "plt.tight_layout()"
   ]
  },
  {
   "cell_type": "code",
   "execution_count": 260,
   "metadata": {
    "collapsed": false
   },
   "outputs": [
    {
     "data": {
      "text/plain": [
       "<matplotlib.axes._subplots.AxesSubplot at 0x1896d1690>"
      ]
     },
     "execution_count": 260,
     "metadata": {},
     "output_type": "execute_result"
    },
    {
     "data": {
      "image/png": "[encoded data removed]",
      "text/plain": [
       "<matplotlib.figure.Figure at 0x1895c5790>"
      ]
     },
     "metadata": {},
     "output_type": "display_data"
    }
   ],
   "source": [
    "sns.distplot(RC_followers_df_cleaned.followers_count, kde = False)"
   ]
  },
  {
   "cell_type": "code",
   "execution_count": 247,
   "metadata": {
    "collapsed": false
   },
   "outputs": [
    {
     "data": {
      "text/plain": [
       "<matplotlib.axes._subplots.AxesSubplot at 0x189630110>"
      ]
     },
     "execution_count": 247,
     "metadata": {},
     "output_type": "execute_result"
    },
    {
     "data": {
      "image/png": "[encoded data removed]",
      "text/plain": [
       "<matplotlib.figure.Figure at 0x189300310>"
      ]
     },
     "metadata": {},
     "output_type": "display_data"
    }
   ],
   "source": [
    "RC_followers_df_cleaned.followers_count.hist(bins = 200)"
   ]
  },
  {
   "cell_type": "code",
   "execution_count": 250,
   "metadata": {
    "collapsed": false
   },
   "outputs": [
    {
     "ename": "ValueError",
     "evalue": "The truth value of a Series is ambiguous. Use a.empty, a.bool(), a.item(), a.any() or a.all().",
     "output_type": "error",
     "traceback": [
      "\u001b[0;31m---------------------------------------------------------------------------\u001b[0m",
      "\u001b[0;31mValueError\u001b[0m                                Traceback (most recent call last)",
      "\u001b[0;32m<ipython-input-250-d2efaf17fcc8>\u001b[0m in \u001b[0;36m<module>\u001b[0;34m()\u001b[0m\n\u001b[0;32m----> 1\u001b[0;31m \u001b[0mRC_followers_100\u001b[0m \u001b[0;34m=\u001b[0m \u001b[0mRC_followers_df\u001b[0m\u001b[0;34m[\u001b[0m\u001b[0mRC_followers_df\u001b[0m\u001b[0;34m.\u001b[0m\u001b[0mfollowers_count\u001b[0m\u001b[0;34m>\u001b[0m\u001b[0;36m100\u001b[0m \u001b[0;32mand\u001b[0m \u001b[0mRC_followers_df\u001b[0m\u001b[0;34m.\u001b[0m\u001b[0mfollowers_count\u001b[0m\u001b[0;34m<\u001b[0m\u001b[0;36m10000\u001b[0m\u001b[0;34m]\u001b[0m\u001b[0;34m\u001b[0m\u001b[0m\n\u001b[0m",
      "\u001b[0;32m/Applications/anaconda/lib/python2.7/site-packages/pandas/core/generic.pyc\u001b[0m in \u001b[0;36m__nonzero__\u001b[0;34m(self)\u001b[0m\n\u001b[1;32m    712\u001b[0m         raise ValueError(\"The truth value of a {0} is ambiguous. \"\n\u001b[1;32m    713\u001b[0m                          \u001b[0;34m\"Use a.empty, a.bool(), a.item(), a.any() or a.all().\"\u001b[0m\u001b[0;34m\u001b[0m\u001b[0m\n\u001b[0;32m--> 714\u001b[0;31m                          .format(self.__class__.__name__))\n\u001b[0m\u001b[1;32m    715\u001b[0m \u001b[0;34m\u001b[0m\u001b[0m\n\u001b[1;32m    716\u001b[0m     \u001b[0m__bool__\u001b[0m \u001b[0;34m=\u001b[0m \u001b[0m__nonzero__\u001b[0m\u001b[0;34m\u001b[0m\u001b[0m\n",
      "\u001b[0;31mValueError\u001b[0m: The truth value of a Series is ambiguous. Use a.empty, a.bool(), a.item(), a.any() or a.all()."
     ]
    }
   ],
   "source": [
    "RC_followers_over_100 = RC_followers_df[RC_followers_df.followers_count>100]"
   ]
  },
  {
   "cell_type": "code",
   "execution_count": 251,
   "metadata": {
    "collapsed": false
   },
   "outputs": [
    {
     "data": {
      "text/plain": [
       "<matplotlib.axes._subplots.AxesSubplot at 0x189f661d0>"
      ]
     },
     "execution_count": 251,
     "metadata": {},
     "output_type": "execute_result"
    },
    {
     "data": {
      "image/png": "[encoded data removed]",
      "text/plain": [
       "<matplotlib.figure.Figure at 0x189ec4250>"
      ]
     },
     "metadata": {},
     "output_type": "display_data"
    }
   ],
   "source": [
    "RC_followers_100.followers_count.hist(bins = 200)"
   ]
  },
  {
   "cell_type": "code",
   "execution_count": 332,
   "metadata": {
    "collapsed": false
   },
   "outputs": [
    {
     "data": {
      "text/plain": [
       "<matplotlib.axes._subplots.AxesSubplot at 0x18e1e0f10>"
      ]
     },
     "execution_count": 332,
     "metadata": {},
     "output_type": "execute_result"
    },
    {
     "data": {
      "image/png": "[encoded data removed]",
      "text/plain": [
       "<matplotlib.figure.Figure at 0x18c688350>"
      ]
     },
     "metadata": {},
     "output_type": "display_data"
    }
   ],
   "source": [
    "RC_followers_df[RC_followers_df.followers_count<10000].friends_count.hist()"
   ]
  },
  {
   "cell_type": "code",
   "execution_count": 258,
   "metadata": {
    "collapsed": false
   },
   "outputs": [
    {
     "data": {
      "text/plain": [
       "9985"
      ]
     },
     "execution_count": 258,
     "metadata": {},
     "output_type": "execute_result"
    }
   ],
   "source": [
    "RC_followers_under_10000.followers_count.max()"
   ]
  },
  {
   "cell_type": "code",
   "execution_count": 261,
   "metadata": {
    "collapsed": false
   },
   "outputs": [
    {
     "data": {
      "text/plain": [
       "<matplotlib.axes._subplots.AxesSubplot at 0x1899e6290>"
      ]
     },
     "execution_count": 261,
     "metadata": {},
     "output_type": "execute_result"
    },
    {
     "data": {
      "image/png": "[encoded data removed]",
      "text/plain": [
       "<matplotlib.figure.Figure at 0x189804450>"
      ]
     },
     "metadata": {},
     "output_type": "display_data"
    }
   ],
   "source": [
    "sns.distplot(RC_followers_under_10000.followers_count, kde = False)"
   ]
  },
  {
   "cell_type": "code",
   "execution_count": 263,
   "metadata": {
    "collapsed": false
   },
   "outputs": [
    {
     "data": {
      "text/plain": [
       "<matplotlib.axes._subplots.AxesSubplot at 0x18a821d90>"
      ]
     },
     "execution_count": 263,
     "metadata": {},
     "output_type": "execute_result"
    },
    {
     "data": {
      "image/png": "[encoded data removed]",
      "text/plain": [
       "<matplotlib.figure.Figure at 0x18827c150>"
      ]
     },
     "metadata": {},
     "output_type": "display_data"
    }
   ],
   "source": [
    "sns.distplot(RC_followers_df.followers_count[RC_followers_df.followers_count<5000], kde = False)"
   ]
  },
  {
   "cell_type": "code",
   "execution_count": 264,
   "metadata": {
    "collapsed": false
   },
   "outputs": [
    {
     "data": {
      "text/plain": [
       "<matplotlib.axes._subplots.AxesSubplot at 0x1882a4f90>"
      ]
     },
     "execution_count": 264,
     "metadata": {},
     "output_type": "execute_result"
    },
    {
     "data": {
      "image/png": "[encoded data removed]",
      "text/plain": [
       "<matplotlib.figure.Figure at 0x189224150>"
      ]
     },
     "metadata": {},
     "output_type": "display_data"
    }
   ],
   "source": [
    "sns.distplot(RC_followers_df.followers_count[RC_followers_df.followers_count<1000], kde = False)"
   ]
  },
  {
   "cell_type": "code",
   "execution_count": 265,
   "metadata": {
    "collapsed": false
   },
   "outputs": [
    {
     "data": {
      "text/plain": [
       "17450052"
      ]
     },
     "execution_count": 265,
     "metadata": {},
     "output_type": "execute_result"
    }
   ],
   "source": [
    "sum(RC_followers_df.followers_count)"
   ]
  },
  {
   "cell_type": "code",
   "execution_count": null,
   "metadata": {
    "collapsed": true
   },
   "outputs": [],
   "source": [
    "sum(RC_followers_df.followers_count)"
   ]
  },
  {
   "cell_type": "code",
   "execution_count": 337,
   "metadata": {
    "collapsed": false
   },
   "outputs": [
    {
     "data": {
      "text/plain": [
       "<matplotlib.axes._subplots.AxesSubplot at 0x190f96610>"
      ]
     },
     "execution_count": 337,
     "metadata": {},
     "output_type": "execute_result"
    },
    {
     "data": {
      "image/png": "[encoded data removed]",
      "text/plain": [
       "<matplotlib.figure.Figure at 0x190f9fdd0>"
      ]
     },
     "metadata": {},
     "output_type": "display_data"
    }
   ],
   "source": [
    "sns.distplot([math.log(count) for count in RC_followers_df.friends_count if count>0], bins =50)"
   ]
  },
  {
   "cell_type": "code",
   "execution_count": 283,
   "metadata": {
    "collapsed": false
   },
   "outputs": [
    {
     "data": {
      "text/plain": [
       "0.04222857142857143"
      ]
     },
     "execution_count": 283,
     "metadata": {},
     "output_type": "execute_result"
    }
   ],
   "source": [
    "len(RC_followers_df[RC_followers_df.followers_count==0])/len(RC_followers_df)\n",
    "#only 4% users have no followers"
   ]
  },
  {
   "cell_type": "markdown",
   "metadata": {},
   "source": [
    "Use the powerlaw package to model the distribution"
   ]
  },
  {
   "cell_type": "code",
   "execution_count": 349,
   "metadata": {
    "collapsed": true
   },
   "outputs": [],
   "source": [
    "RC_followers_df_nozero = RC_followers_df[RC_followers_df.followers_count!=0]"
   ]
  },
  {
   "cell_type": "code",
   "execution_count": 351,
   "metadata": {
    "collapsed": false
   },
   "outputs": [
    {
     "name": "stderr",
     "output_type": "stream",
     "text": [
      "Calculating best minimal value for power law fit\n"
     ]
    }
   ],
   "source": [
    "fit = powerlaw.Fit(RC_followers_df_nozero.followers_count)"
   ]
  },
  {
   "cell_type": "code",
   "execution_count": 312,
   "metadata": {
    "collapsed": false
   },
   "outputs": [
    {
     "data": {
      "text/plain": [
       "1.8786777775094308"
      ]
     },
     "execution_count": 312,
     "metadata": {},
     "output_type": "execute_result"
    }
   ],
   "source": [
    "#alpha is the The parameter of the power law. The slope on a log-log plot.\n",
    "fit.power_law.alpha"
   ]
  },
  {
   "cell_type": "code",
   "execution_count": 321,
   "metadata": {
    "collapsed": false
   },
   "outputs": [
    {
     "data": {
      "text/plain": [
       "1196.0"
      ]
     },
     "execution_count": 321,
     "metadata": {},
     "output_type": "execute_result"
    }
   ],
   "source": [
    "#xmin shows the minimum value at which the power law starts\n",
    "fit.power_law.xmin"
   ]
  },
  {
   "cell_type": "code",
   "execution_count": 292,
   "metadata": {
    "collapsed": false
   },
   "outputs": [
    {
     "data": {
      "text/plain": [
       "<matplotlib.axes._subplots.AxesSubplot at 0x18aec7d10>"
      ]
     },
     "execution_count": 292,
     "metadata": {},
     "output_type": "execute_result"
    },
    {
     "data": {
      "image/png": "[encoded data removed]",
      "text/plain": [
       "<matplotlib.figure.Figure at 0x18ae9b490>"
      ]
     },
     "metadata": {},
     "output_type": "display_data"
    }
   ],
   "source": [
    "#probability density function for the data. Note the kink at around 10^2, around the point of xmin\n",
    "powerlaw.plot_pdf(RC_followers_df_nozero.followers_count)"
   ]
  },
  {
   "cell_type": "code",
   "execution_count": 295,
   "metadata": {
    "collapsed": false
   },
   "outputs": [],
   "source": [
    "R, p = fit.distribution_compare(\"power_law\",\"exponential\", normalized_ratio=True)"
   ]
  },
  {
   "cell_type": "code",
   "execution_count": 296,
   "metadata": {
    "collapsed": false
   },
   "outputs": [
    {
     "name": "stdout",
     "output_type": "stream",
     "text": [
      "6.58898688778 4.42837889919e-11\n"
     ]
    }
   ],
   "source": [
    "print R, p"
   ]
  },
  {
   "cell_type": "code",
   "execution_count": 301,
   "metadata": {
    "collapsed": false
   },
   "outputs": [
    {
     "name": "stdout",
     "output_type": "stream",
     "text": [
      "-1153.57161293 3.87510028386e-11\n"
     ]
    }
   ],
   "source": [
    "R, p = fit.distribution_compare(\"exponential\",\"lognormal\")\n",
    "print R, p"
   ]
  },
  {
   "cell_type": "code",
   "execution_count": 299,
   "metadata": {
    "collapsed": false
   },
   "outputs": [
    {
     "name": "stdout",
     "output_type": "stream",
     "text": [
      "-0.274291308296 0.667339520204\n"
     ]
    }
   ],
   "source": [
    "R, p = fit.distribution_compare(\"power_law\", \"lognormal\")\n",
    "print R, p"
   ]
  },
  {
   "cell_type": "markdown",
   "metadata": {},
   "source": [
    "There isn't a significant difference between the likelihood of power law and lognormal distributions. Lognormal is a simpler distribution and so I assume this is more likely"
   ]
  },
  {
   "cell_type": "code",
   "execution_count": 384,
   "metadata": {
    "collapsed": false
   },
   "outputs": [
    {
     "name": "stderr",
     "output_type": "stream",
     "text": [
      "/Applications/anaconda/lib/python2.7/site-packages/IPython/kernel/__main__.py:1: SettingWithCopyWarning: \n",
      "A value is trying to be set on a copy of a slice from a DataFrame.\n",
      "Try using .loc[row_indexer,col_indexer] = value instead\n",
      "\n",
      "See the the caveats in the documentation: http://pandas.pydata.org/pandas-docs/stable/indexing.html#indexing-view-versus-copy\n",
      "  if __name__ == '__main__':\n"
     ]
    }
   ],
   "source": [
    "RC_followers_df_nozero['Length_of_membership'] = pd.to_datetime('2015-12-03 18:12:46') - RC_followers_df_nozero['created_at']\n"
   ]
  },
  {
   "cell_type": "code",
   "execution_count": 402,
   "metadata": {
    "collapsed": false
   },
   "outputs": [],
   "source": [
    "current_date = pd.to_datetime('2015-12-03 18:12:46')"
   ]
  },
  {
   "cell_type": "code",
   "execution_count": 399,
   "metadata": {
    "collapsed": true
   },
   "outputs": [],
   "source": [
    "def return_days(date):\n",
    "    return date.days"
   ]
  },
  {
   "cell_type": "code",
   "execution_count": 403,
   "metadata": {
    "collapsed": false
   },
   "outputs": [
    {
     "name": "stderr",
     "output_type": "stream",
     "text": [
      "/Applications/anaconda/lib/python2.7/site-packages/IPython/kernel/__main__.py:1: SettingWithCopyWarning: \n",
      "A value is trying to be set on a copy of a slice from a DataFrame.\n",
      "Try using .loc[row_indexer,col_indexer] = value instead\n",
      "\n",
      "See the the caveats in the documentation: http://pandas.pydata.org/pandas-docs/stable/indexing.html#indexing-view-versus-copy\n",
      "  if __name__ == '__main__':\n"
     ]
    }
   ],
   "source": [
    "RC_followers_df_nozero['Length_of_membership'] = RC_followers_df_nozero['created_at'].apply(lambda x:(current_date-x).days)"
   ]
  },
  {
   "cell_type": "code",
   "execution_count": 404,
   "metadata": {
    "collapsed": false
   },
   "outputs": [
    {
     "data": {
      "text/plain": [
       "0        2164\n",
       "1        1774\n",
       "2         156\n",
       "3        1451\n",
       "4        1453\n",
       "5        2934\n",
       "6        1618\n",
       "7         970\n",
       "8         216\n",
       "9        2225\n",
       "10       2466\n",
       "11          2\n",
       "12       1991\n",
       "13       2427\n",
       "14        273\n",
       "15       1911\n",
       "16       3292\n",
       "17        827\n",
       "18       1675\n",
       "19       2486\n",
       "20       1322\n",
       "21       2345\n",
       "22       2737\n",
       "23        805\n",
       "24       2423\n",
       "25        851\n",
       "26       2305\n",
       "27        107\n",
       "28       2431\n",
       "29        241\n",
       "         ... \n",
       "17470    1979\n",
       "17471    2765\n",
       "17472    1626\n",
       "17473    1841\n",
       "17474    2828\n",
       "17475    2314\n",
       "17476    2686\n",
       "17477    3279\n",
       "17478    2615\n",
       "17479    2246\n",
       "17480    3185\n",
       "17481    2239\n",
       "17482    1892\n",
       "17483    2585\n",
       "17484    2386\n",
       "17485    2514\n",
       "17486    2759\n",
       "17487    1666\n",
       "17488    2228\n",
       "17489    2492\n",
       "17490    2751\n",
       "17491    2473\n",
       "17492    3058\n",
       "17493    2739\n",
       "17494    2843\n",
       "17495    2584\n",
       "17496    2497\n",
       "17497    2469\n",
       "17498    2310\n",
       "17499    2415\n",
       "Name: Length_of_membership, dtype: int64"
      ]
     },
     "execution_count": 404,
     "metadata": {},
     "output_type": "execute_result"
    }
   ],
   "source": [
    "RC_followers_df_nozero['Length_of_membership']"
   ]
  },
  {
   "cell_type": "code",
   "execution_count": 374,
   "metadata": {
    "collapsed": false
   },
   "outputs": [],
   "source": [
    "#split dataset up into train and test sets\n",
    "mask = np.random.rand(len(RC_followers_df_nozero))<0.8\n",
    "RC_train = RC_followers_df_nozero[mask]\n",
    "RC_test = RC_followers_df_nozero[~mask]"
   ]
  },
  {
   "cell_type": "code",
   "execution_count": 344,
   "metadata": {
    "collapsed": false
   },
   "outputs": [],
   "source": [
    "RC_followers_df.to_csv(\"RC_followers_df.csv\", encoding = 'utf-8')"
   ]
  },
  {
   "cell_type": "code",
   "execution_count": 377,
   "metadata": {
    "collapsed": false
   },
   "outputs": [],
   "source": [
    "RC_train.to_csv(\"RC_train.csv\", encoding = 'utf-8')\n",
    "RC_test.to_csv(\"RC_test.csv\", encoding = 'utf-8')"
   ]
  },
  {
   "cell_type": "code",
   "execution_count": 381,
   "metadata": {
    "collapsed": false
   },
   "outputs": [
    {
     "data": {
      "text/html": [
       "<div>\n",
       "<table border=\"1\" class=\"dataframe\">\n",
       "  <thead>\n",
       "    <tr style=\"text-align: right;\">\n",
       "      <th></th>\n",
       "      <th>created_at</th>\n",
       "      <th>default_profile_image</th>\n",
       "      <th>description</th>\n",
       "      <th>favourites_count</th>\n",
       "      <th>followers_count</th>\n",
       "      <th>friends_count</th>\n",
       "      <th>lang</th>\n",
       "      <th>listed_count</th>\n",
       "      <th>name</th>\n",
       "      <th>protected</th>\n",
       "      <th>statuses_count</th>\n",
       "      <th>time_zone</th>\n",
       "      <th>verified</th>\n",
       "      <th>withheld_in_countries</th>\n",
       "      <th>log_followers</th>\n",
       "    </tr>\n",
       "  </thead>\n",
       "  <tbody>\n",
       "    <tr>\n",
       "      <th>17491</th>\n",
       "      <td>2009-02-24 18:12:46</td>\n",
       "      <td>True</td>\n",
       "      <td></td>\n",
       "      <td>2</td>\n",
       "      <td>81</td>\n",
       "      <td>900</td>\n",
       "      <td>en</td>\n",
       "      <td>3</td>\n",
       "      <td>ks</td>\n",
       "      <td>True</td>\n",
       "      <td>267</td>\n",
       "      <td>Amsterdam</td>\n",
       "      <td>False</td>\n",
       "      <td>None</td>\n",
       "      <td>6.802395</td>\n",
       "    </tr>\n",
       "    <tr>\n",
       "      <th>17492</th>\n",
       "      <td>2007-07-20 09:21:58</td>\n",
       "      <td>False</td>\n",
       "      <td>Blake Johnson</td>\n",
       "      <td>107</td>\n",
       "      <td>651</td>\n",
       "      <td>506</td>\n",
       "      <td>en</td>\n",
       "      <td>33</td>\n",
       "      <td>blake johnson</td>\n",
       "      <td>False</td>\n",
       "      <td>2890</td>\n",
       "      <td>Eastern Time (US &amp; Canada)</td>\n",
       "      <td>False</td>\n",
       "      <td>None</td>\n",
       "      <td>6.226537</td>\n",
       "    </tr>\n",
       "    <tr>\n",
       "      <th>17496</th>\n",
       "      <td>2009-01-31 09:12:35</td>\n",
       "      <td>False</td>\n",
       "      <td>Product Design at Ringly. Previously eBay, Hun...</td>\n",
       "      <td>103</td>\n",
       "      <td>272</td>\n",
       "      <td>374</td>\n",
       "      <td>en</td>\n",
       "      <td>16</td>\n",
       "      <td>Bill Gaines</td>\n",
       "      <td>False</td>\n",
       "      <td>1080</td>\n",
       "      <td>Eastern Time (US &amp; Canada)</td>\n",
       "      <td>False</td>\n",
       "      <td>None</td>\n",
       "      <td>5.924256</td>\n",
       "    </tr>\n",
       "    <tr>\n",
       "      <th>17498</th>\n",
       "      <td>2009-08-06 01:46:56</td>\n",
       "      <td>True</td>\n",
       "      <td></td>\n",
       "      <td>7</td>\n",
       "      <td>125</td>\n",
       "      <td>63</td>\n",
       "      <td>en</td>\n",
       "      <td>8</td>\n",
       "      <td>_</td>\n",
       "      <td>True</td>\n",
       "      <td>1161</td>\n",
       "      <td>Eastern Time (US &amp; Canada)</td>\n",
       "      <td>False</td>\n",
       "      <td>None</td>\n",
       "      <td>4.143135</td>\n",
       "    </tr>\n",
       "    <tr>\n",
       "      <th>17499</th>\n",
       "      <td>2009-04-23 03:32:51</td>\n",
       "      <td>False</td>\n",
       "      <td>Programmer/QA/budding drummer</td>\n",
       "      <td>1356</td>\n",
       "      <td>101</td>\n",
       "      <td>227</td>\n",
       "      <td>en</td>\n",
       "      <td>19</td>\n",
       "      <td>Isaul Vargas</td>\n",
       "      <td>False</td>\n",
       "      <td>2821</td>\n",
       "      <td>Eastern Time (US &amp; Canada)</td>\n",
       "      <td>False</td>\n",
       "      <td>None</td>\n",
       "      <td>5.424950</td>\n",
       "    </tr>\n",
       "  </tbody>\n",
       "</table>\n",
       "</div>"
      ],
      "text/plain": [
       "               created_at default_profile_image  \\\n",
       "17491 2009-02-24 18:12:46                  True   \n",
       "17492 2007-07-20 09:21:58                 False   \n",
       "17496 2009-01-31 09:12:35                 False   \n",
       "17498 2009-08-06 01:46:56                  True   \n",
       "17499 2009-04-23 03:32:51                 False   \n",
       "\n",
       "                                             description  favourites_count  \\\n",
       "17491                                                                    2   \n",
       "17492                                      Blake Johnson               107   \n",
       "17496  Product Design at Ringly. Previously eBay, Hun...               103   \n",
       "17498                                                                    7   \n",
       "17499                      Programmer/QA/budding drummer              1356   \n",
       "\n",
       "       followers_count  friends_count lang  listed_count           name  \\\n",
       "17491               81            900   en             3             ks   \n",
       "17492              651            506   en            33  blake johnson   \n",
       "17496              272            374   en            16    Bill Gaines   \n",
       "17498              125             63   en             8              _   \n",
       "17499              101            227   en            19   Isaul Vargas   \n",
       "\n",
       "      protected  statuses_count                   time_zone verified  \\\n",
       "17491      True             267                   Amsterdam    False   \n",
       "17492     False            2890  Eastern Time (US & Canada)    False   \n",
       "17496     False            1080  Eastern Time (US & Canada)    False   \n",
       "17498      True            1161  Eastern Time (US & Canada)    False   \n",
       "17499     False            2821  Eastern Time (US & Canada)    False   \n",
       "\n",
       "      withheld_in_countries  log_followers  \n",
       "17491                  None       6.802395  \n",
       "17492                  None       6.226537  \n",
       "17496                  None       5.924256  \n",
       "17498                  None       4.143135  \n",
       "17499                  None       5.424950  "
      ]
     },
     "execution_count": 381,
     "metadata": {},
     "output_type": "execute_result"
    }
   ],
   "source": [
    "len(RC_train)\n",
    "RC_train.tail()"
   ]
  },
  {
   "cell_type": "code",
   "execution_count": null,
   "metadata": {
    "collapsed": true
   },
   "outputs": [],
   "source": []
  }
 ],
 "metadata": {
  "kernelspec": {
   "display_name": "Python 2",
   "language": "python",
   "name": "python2"
  },
  "language_info": {
   "codemirror_mode": {
    "name": "ipython",
    "version": 2
   },
   "file_extension": ".py",
   "mimetype": "text/x-python",
   "name": "python",
   "nbconvert_exporter": "python",
   "pygments_lexer": "ipython2",
   "version": "2.7.10"
  }
 },
 "nbformat": 4,
 "nbformat_minor": 0
}
